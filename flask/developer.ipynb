{
 "cells": [
  {
   "cell_type": "code",
   "execution_count": 2,
   "id": "b6d2aa42",
   "metadata": {},
   "outputs": [],
   "source": [
    "from fastapi import FastAPI, Body\n",
    "import requests\n",
    "import pandas as pd\n",
    "import boto3\n",
    "import os\n",
    "from io import BytesIO\n",
    "import boto3\n",
    "from dotenv import load_dotenv"
   ]
  },
  {
   "cell_type": "code",
   "execution_count": 33,
   "id": "c74861a7",
   "metadata": {},
   "outputs": [
    {
     "data": {
      "text/plain": [
       "True"
      ]
     },
     "execution_count": 33,
     "metadata": {},
     "output_type": "execute_result"
    }
   ],
   "source": [
    "load_dotenv(r'e:\\Data\\ML-engineer\\mle-project-sprint-4-v001\\flask\\.env')"
   ]
  },
  {
   "cell_type": "code",
   "execution_count": 40,
   "id": "d78bb133",
   "metadata": {},
   "outputs": [
    {
     "name": "stdout",
     "output_type": "stream",
     "text": [
      "Подключение к s3 бакету успешно\n"
     ]
    }
   ],
   "source": [
    "# Создаем клиент s3\n",
    "s3 = boto3.client('s3', endpoint_url='https://storage.yandexcloud.net', aws_access_key_id=os.getenv('AWS_ACCESS_KEY_ID'), aws_secret_access_key=os.getenv('AWS_SECRET_ACCESS_KEY'))\n",
    "\n",
    "# Проверяем возможность подключения к s3 бакету\n",
    "try:\n",
    "    s3.head_bucket(Bucket=os.getenv(\"S3_BUCKET\"))\n",
    "    print(\"Подключение к s3 бакету успешно\")\n",
    "except Exception as e:\n",
    "    print(\"Ошибка подключения к s3 бакету:\", e)"
   ]
  },
  {
   "cell_type": "code",
   "execution_count": 43,
   "id": "41c8b432",
   "metadata": {},
   "outputs": [],
   "source": [
    "buffer = BytesIO()\n",
    "# Get the file inside the S3 Bucket\n",
    "s3_response = s3.download_fileobj(\n",
    "    Bucket=os.getenv(\"S3_BUCKET\"),\n",
    "    Key='recsys/data/items.parquet',\n",
    "    Fileobj=buffer\n",
    ")\n",
    "buffer.seek(0)\n",
    "\n",
    "# Read the data in bytes format\n",
    "df = pd.read_parquet(buffer)"
   ]
  },
  {
   "cell_type": "code",
   "execution_count": 54,
   "id": "319d5f00",
   "metadata": {},
   "outputs": [],
   "source": [
    "def get_tracks(user_id: int):\n",
    "    # Отправляем запрос к другому микросервису\n",
    "    response = requests.get(f\"http://127.0.0.1:7000/get_tracks?user_id={user_id}\")\n",
    "    track_list = response.json()\n",
    "    return track_list\n",
    "    # Находим строки, где track_id is in track_list\n",
    "    #result = df[df['track_id'].isin(track_list)]\n",
    "    #return result.to_dict(orient='records')"
   ]
  },
  {
   "cell_type": "code",
   "execution_count": 72,
   "id": "0946e3dd",
   "metadata": {},
   "outputs": [],
   "source": [
    "def get_history(user_id: int):\n",
    "    # Отправляем запрос к другому микросервису\n",
    "    response = requests.get(f\"http://127.0.0.1:8000/get_tracks?user_id={user_id}\")\n",
    "    track_list = response.json()\n",
    "    return track_list"
   ]
  },
  {
   "cell_type": "code",
   "execution_count": 111,
   "id": "a785ff0e",
   "metadata": {},
   "outputs": [],
   "source": [
    "def similars(track_ids):\n",
    "    # Отправляем запрос к другому микросервису\n",
    "    response = requests.get(\"http://127.0.0.1:6000/get_tracks\", json=track_ids)\n",
    "    track_list = response.json()\n",
    "    return track_list"
   ]
  },
  {
   "cell_type": "code",
   "execution_count": 116,
   "id": "76385504",
   "metadata": {},
   "outputs": [],
   "source": [
    "def get_pops(track_ids):\n",
    "    # Отправляем запрос к другому микросервису\n",
    "    response = requests.get(\"http://127.0.0.1:8000/get_pop_tracks\", json=track_ids)\n",
    "    track_list = response.json()\n",
    "    return track_list"
   ]
  },
  {
   "cell_type": "code",
   "execution_count": 117,
   "id": "7cf5a167",
   "metadata": {},
   "outputs": [
    {
     "data": {
      "text/plain": [
       "({'status': 'success',\n",
       "  'data': [63678480,\n",
       "   63678470,\n",
       "   63678479,\n",
       "   64453581,\n",
       "   9282507,\n",
       "   24112220,\n",
       "   39632975,\n",
       "   17887582,\n",
       "   560468,\n",
       "   2200948]},\n",
       " {'status': 'success',\n",
       "  'data': [64453581,\n",
       "   63678480,\n",
       "   63678479,\n",
       "   63678470,\n",
       "   63549849,\n",
       "   62487201,\n",
       "   63276502,\n",
       "   60729121,\n",
       "   60406441,\n",
       "   60089337]},\n",
       " {'status': 'success',\n",
       "  'data': [63678475,\n",
       "   63750588,\n",
       "   63678469,\n",
       "   63678476,\n",
       "   63678477,\n",
       "   63750579,\n",
       "   63678471,\n",
       "   63710488,\n",
       "   63678478,\n",
       "   63750585]},\n",
       " {'status': 'success',\n",
       "  'data': [308971,\n",
       "   648937,\n",
       "   8264,\n",
       "   10449127,\n",
       "   14662829,\n",
       "   202851,\n",
       "   33146010,\n",
       "   2180613,\n",
       "   9563114,\n",
       "   35515789]})"
      ]
     },
     "execution_count": 117,
     "metadata": {},
     "output_type": "execute_result"
    }
   ],
   "source": [
    "rex = get_tracks(13)\n",
    "hix = get_history(13)\n",
    "sims = similars(hix['data'])\n",
    "pops = get_pops(hix['data'])\n",
    "rex, hix, sims, pops"
   ]
  },
  {
   "cell_type": "code",
   "execution_count": 118,
   "id": "48ed865e",
   "metadata": {},
   "outputs": [],
   "source": [
    "if len(rex['data']) >=7:\n",
    "    out = rex['data'][:7]+sims['data'][:3]\n",
    "if len(rex['data']) ==0:\n",
    "    if len(hix['data'])==10:\n",
    "        out =sims['data'][:10]\n",
    "    else:\n",
    "        out = pops\n"
   ]
  },
  {
   "cell_type": "code",
   "execution_count": 125,
   "id": "f91cec63",
   "metadata": {},
   "outputs": [
    {
     "data": {
      "text/plain": [
       "[\"('Родина',)-['АнимациЯ']\",\n",
       " \"('Трасса Е-95',)-['Алиса']\",\n",
       " \"('Две тысячи баксов',)-['Алексей Марковников']\",\n",
       " \"('Весна',)-['Игорь Растеряев']\",\n",
       " \"('Песня про Юру Прищепного',)-['Игорь Растеряев']\",\n",
       " \"('Казачья',)-['Игорь Растеряев']\",\n",
       " \"('Комбайнёры',)-['Игорь Растеряев']\",\n",
       " \"('Георгиевская ленточка',)-['Игорь Растеряев']\",\n",
       " \"('Дальнобойная',)-['Игорь Растеряев']\",\n",
       " \"('Байконур 66',)-['Без Билета']\"]"
      ]
     },
     "execution_count": 125,
     "metadata": {},
     "output_type": "execute_result"
    }
   ],
   "source": [
    "cool_result = [(row['track_name']+\"-\"+row['artists']) for _, row in df.query('track_id in @out').iterrows()]\n",
    "cool_result"
   ]
  },
  {
   "cell_type": "code",
   "execution_count": 3,
   "id": "191728ca",
   "metadata": {},
   "outputs": [],
   "source": [
    "events = pd.read_parquet(r'E:\\Data\\ML-engineer\\mle-project-sprint-4-v001\\data\\events.parquet')\n",
    "cb_pred = pd.read_parquet(r'E:\\Data\\ML-engineer\\mle-project-sprint-4-v001\\data\\cb_predictions.parquet')"
   ]
  },
  {
   "cell_type": "code",
   "execution_count": 4,
   "id": "8c79d538",
   "metadata": {},
   "outputs": [],
   "source": [
    "users_with_history = list(events['user_id'].unique())\n",
    "users_with_predictions = list(cb_pred['user_id'].unique())"
   ]
  },
  {
   "cell_type": "code",
   "execution_count": 7,
   "id": "6e66b3b5",
   "metadata": {},
   "outputs": [],
   "source": [
    "predicted_users = set(users_with_predictions)\n",
    "users_with_history_and_no_predictions = []\n",
    "for user in users_with_history:\n",
    "    if user not in predicted_users:\n",
    "        users_with_history_and_no_predictions.append(user)\n",
    "        if len(users_with_history_and_no_predictions) >= 10:\n",
    "            break\n"
   ]
  },
  {
   "cell_type": "code",
   "execution_count": 8,
   "id": "a10b46df",
   "metadata": {},
   "outputs": [
    {
     "data": {
      "text/plain": [
       "[]"
      ]
     },
     "execution_count": 8,
     "metadata": {},
     "output_type": "execute_result"
    }
   ],
   "source": [
    "users_with_history_and_no_predictions"
   ]
  }
 ],
 "metadata": {
  "kernelspec": {
   "display_name": "base",
   "language": "python",
   "name": "python3"
  },
  "language_info": {
   "codemirror_mode": {
    "name": "ipython",
    "version": 3
   },
   "file_extension": ".py",
   "mimetype": "text/x-python",
   "name": "python",
   "nbconvert_exporter": "python",
   "pygments_lexer": "ipython3",
   "version": "3.12.2"
  }
 },
 "nbformat": 4,
 "nbformat_minor": 5
}
