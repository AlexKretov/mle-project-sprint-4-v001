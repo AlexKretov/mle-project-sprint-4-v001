{
 "cells": [
  {
   "cell_type": "code",
   "execution_count": 3,
   "id": "7e219b8f",
   "metadata": {},
   "outputs": [],
   "source": [
    "import pandas as pd\n",
    "import polars as pl\n",
    "import numpy as np"
   ]
  },
  {
   "cell_type": "code",
   "execution_count": 4,
   "id": "3b0b5cc6",
   "metadata": {},
   "outputs": [],
   "source": [
    "clickstream = pd.read_parquet(\"data/interactions.parquet\")"
   ]
  },
  {
   "cell_type": "code",
   "execution_count": 5,
   "id": "fc15445d",
   "metadata": {},
   "outputs": [],
   "source": [
    "# В качестве точки разбиения используйте 16 декабря 2022 года\n",
    "# зададим точку разбиения\n",
    "train_test_global_time_split_date = pd.to_datetime(\"2022-12-16\").date()\n",
    "clickstream[\"started_at\"] = pd.to_datetime(clickstream[\"started_at\"]).dt.date\n",
    "train_test_global_time_split_idx = clickstream[\"started_at\"] < train_test_global_time_split_date\n",
    "events_train = clickstream[train_test_global_time_split_idx]\n",
    "events_test = clickstream[~train_test_global_time_split_idx]"
   ]
  },
  {
   "cell_type": "code",
   "execution_count": 6,
   "id": "4b0e829f",
   "metadata": {},
   "outputs": [],
   "source": [
    "del clickstream"
   ]
  },
  {
   "cell_type": "code",
   "execution_count": 5,
   "id": "0673b9c4",
   "metadata": {},
   "outputs": [
    {
     "name": "stderr",
     "output_type": "stream",
     "text": [
      "<>:2: SyntaxWarning: invalid escape sequence '\\e'\n",
      "<>:2: SyntaxWarning: invalid escape sequence '\\e'\n",
      "C:\\Users\\Admin\\AppData\\Local\\Temp\\ipykernel_10600\\2923317524.py:2: SyntaxWarning: invalid escape sequence '\\e'\n",
      "  enhanced_events = pd.read_parquet('data\\enchanced_events.parquet')\n"
     ]
    }
   ],
   "source": [
    "als_scores = pd.read_parquet(\"data/als_scores.parquet\")\n",
    "enhanced_events = pd.read_parquet('data\\enchanced_events.parquet')"
   ]
  },
  {
   "cell_type": "code",
   "execution_count": 5,
   "id": "b61252d8",
   "metadata": {},
   "outputs": [
    {
     "data": {
      "text/plain": [
       "17"
      ]
     },
     "execution_count": 5,
     "metadata": {},
     "output_type": "execute_result"
    }
   ],
   "source": [
    "import gc\n",
    "gc.collect()"
   ]
  },
  {
   "cell_type": "code",
   "execution_count": 7,
   "id": "5ab2aed0",
   "metadata": {},
   "outputs": [],
   "source": [
    "# задаём точку разбиения\n",
    "split_date_for_labels = pd.to_datetime(\"2022-12-22\").date()\n",
    "\n",
    "split_date_for_labels_idx = events_test[\"started_at\"] < split_date_for_labels\n",
    "events_labels = events_test[split_date_for_labels_idx].copy()\n",
    "events_test_2 = events_test[~split_date_for_labels_idx].copy() "
   ]
  },
  {
   "cell_type": "code",
   "execution_count": 8,
   "id": "5b084263",
   "metadata": {},
   "outputs": [
    {
     "name": "stderr",
     "output_type": "stream",
     "text": [
      "C:\\Users\\Admin\\AppData\\Local\\Temp\\ipykernel_10600\\1660291312.py:6: DeprecationWarning: Use of `how='outer'` should be replaced with `how='full'`.\n",
      "  .join(\n"
     ]
    },
    {
     "data": {
      "text/html": [
       "<div><style>\n",
       ".dataframe > thead > tr,\n",
       ".dataframe > tbody > tr {\n",
       "  text-align: right;\n",
       "  white-space: pre-wrap;\n",
       "}\n",
       "</style>\n",
       "<small>shape: (284_018_252, 8)</small><table border=\"1\" class=\"dataframe\"><thead><tr><th>user_id</th><th>track_id</th><th>score</th><th>als_score</th><th>user_id_right</th><th>track_id_right</th><th>user_genre_affinity</th><th>user_artist_ratio</th></tr><tr><td>i64</td><td>i64</td><td>f64</td><td>f64</td><td>i32</td><td>i32</td><td>f64</td><td>f64</td></tr></thead><tbody><tr><td>null</td><td>null</td><td>null</td><td>null</td><td>0</td><td>99262</td><td>0.076923</td><td>0.038462</td></tr><tr><td>null</td><td>null</td><td>null</td><td>null</td><td>0</td><td>589498</td><td>0.192308</td><td>0.153846</td></tr><tr><td>null</td><td>null</td><td>null</td><td>null</td><td>0</td><td>590262</td><td>0.192308</td><td>0.153846</td></tr><tr><td>null</td><td>null</td><td>null</td><td>null</td><td>0</td><td>590303</td><td>0.192308</td><td>0.153846</td></tr><tr><td>null</td><td>null</td><td>null</td><td>null</td><td>0</td><td>590692</td><td>0.192308</td><td>0.153846</td></tr><tr><td>&hellip;</td><td>&hellip;</td><td>&hellip;</td><td>&hellip;</td><td>&hellip;</td><td>&hellip;</td><td>&hellip;</td><td>&hellip;</td></tr><tr><td>225558</td><td>10277791</td><td>0.086993</td><td>0.086993</td><td>null</td><td>null</td><td>null</td><td>null</td></tr><tr><td>945575</td><td>27051026</td><td>0.015018</td><td>0.015018</td><td>null</td><td>null</td><td>null</td><td>null</td></tr><tr><td>189166</td><td>87659099</td><td>0.124514</td><td>0.124514</td><td>null</td><td>null</td><td>null</td><td>null</td></tr><tr><td>1329132</td><td>14422944</td><td>0.191402</td><td>0.191402</td><td>null</td><td>null</td><td>null</td><td>null</td></tr><tr><td>807300</td><td>96064</td><td>0.613312</td><td>0.613312</td><td>null</td><td>null</td><td>null</td><td>null</td></tr></tbody></table></div>"
      ],
      "text/plain": [
       "shape: (284_018_252, 8)\n",
       "┌─────────┬──────────┬──────────┬───────────┬─────────────┬─────────────┬─────────────┬────────────┐\n",
       "│ user_id ┆ track_id ┆ score    ┆ als_score ┆ user_id_rig ┆ track_id_ri ┆ user_genre_ ┆ user_artis │\n",
       "│ ---     ┆ ---      ┆ ---      ┆ ---       ┆ ht          ┆ ght         ┆ affinity    ┆ t_ratio    │\n",
       "│ i64     ┆ i64      ┆ f64      ┆ f64       ┆ ---         ┆ ---         ┆ ---         ┆ ---        │\n",
       "│         ┆          ┆          ┆           ┆ i32         ┆ i32         ┆ f64         ┆ f64        │\n",
       "╞═════════╪══════════╪══════════╪═══════════╪═════════════╪═════════════╪═════════════╪════════════╡\n",
       "│ null    ┆ null     ┆ null     ┆ null      ┆ 0           ┆ 99262       ┆ 0.076923    ┆ 0.038462   │\n",
       "│ null    ┆ null     ┆ null     ┆ null      ┆ 0           ┆ 589498      ┆ 0.192308    ┆ 0.153846   │\n",
       "│ null    ┆ null     ┆ null     ┆ null      ┆ 0           ┆ 590262      ┆ 0.192308    ┆ 0.153846   │\n",
       "│ null    ┆ null     ┆ null     ┆ null      ┆ 0           ┆ 590303      ┆ 0.192308    ┆ 0.153846   │\n",
       "│ null    ┆ null     ┆ null     ┆ null      ┆ 0           ┆ 590692      ┆ 0.192308    ┆ 0.153846   │\n",
       "│ …       ┆ …        ┆ …        ┆ …         ┆ …           ┆ …           ┆ …           ┆ …          │\n",
       "│ 225558  ┆ 10277791 ┆ 0.086993 ┆ 0.086993  ┆ null        ┆ null        ┆ null        ┆ null       │\n",
       "│ 945575  ┆ 27051026 ┆ 0.015018 ┆ 0.015018  ┆ null        ┆ null        ┆ null        ┆ null       │\n",
       "│ 189166  ┆ 87659099 ┆ 0.124514 ┆ 0.124514  ┆ null        ┆ null        ┆ null        ┆ null       │\n",
       "│ 1329132 ┆ 14422944 ┆ 0.191402 ┆ 0.191402  ┆ null        ┆ null        ┆ null        ┆ null       │\n",
       "│ 807300  ┆ 96064    ┆ 0.613312 ┆ 0.613312  ┆ null        ┆ null        ┆ null        ┆ null       │\n",
       "└─────────┴──────────┴──────────┴───────────┴─────────────┴─────────────┴─────────────┴────────────┘"
      ]
     },
     "execution_count": 8,
     "metadata": {},
     "output_type": "execute_result"
    }
   ],
   "source": [
    "als_recommendations = pl.from_pandas(als_scores)\n",
    "enhanced_events = pl.from_pandas(enhanced_events)\n",
    "candidates = (\n",
    "    als_recommendations.select([\"user_id\", \"track_id\", \"score\"])\n",
    "    .with_columns(pl.col(\"score\").alias(\"als_score\"))\n",
    "    .join(\n",
    "        enhanced_events.select([\"user_id\", \"track_id\", \"user_genre_affinity\", \"user_artist_ratio\"]),\n",
    "        on=[\"user_id\", \"track_id\"],\n",
    "        how=\"outer\"\n",
    "    )\n",
    ")\n",
    "\n",
    "candidates"
   ]
  },
  {
   "cell_type": "code",
   "execution_count": 9,
   "id": "113b3b2c",
   "metadata": {},
   "outputs": [],
   "source": [
    "# Заполняем пропуски в столбце 'user_id' соответствующими значениями из 'user_id_right'\n",
    "candidates = candidates.with_columns(pl.col('user_id').fill_null(pl.col('user_id_right')).alias('user_id'))\n",
    "\n",
    "# Заполняем пропуски в столбце 'track_id' соответствующими значениями из 'track_id_right'\n",
    "candidates = candidates.with_columns(pl.col('track_id').fill_null(pl.col('track_id_right')).alias('track_id'))\n",
    "\n",
    "candidates = candidates.select(['user_id',\t'track_id',\t'als_score',\t'user_genre_affinity',\t'user_artist_ratio'])\n",
    "candidates.write_parquet('data/candidates.parquet')"
   ]
  },
  {
   "cell_type": "code",
   "execution_count": null,
   "id": "55d7a678",
   "metadata": {},
   "outputs": [],
   "source": [
    "candidates = pl.read_parquet('data/candidates.parquet')"
   ]
  },
  {
   "cell_type": "code",
   "execution_count": 11,
   "id": "9b3be8e1",
   "metadata": {},
   "outputs": [
    {
     "name": "stderr",
     "output_type": "stream",
     "text": [
      "C:\\Users\\Admin\\AppData\\Local\\Temp\\ipykernel_10600\\3704159602.py:8: DeprecationWarning: Use of `how='outer'` should be replaced with `how='full'`.\n",
      "  .join(candidates,\n"
     ]
    },
    {
     "name": "stdout",
     "output_type": "stream",
     "text": [
      "shape: (50, 8)\n",
      "┌─────────┬──────────┬────────┬──────────────┬─────────────┬───────────┬─────────────┬─────────────┐\n",
      "│ user_id ┆ track_id ┆ target ┆ user_id_righ ┆ track_id_ri ┆ als_score ┆ user_genre_ ┆ user_artist │\n",
      "│ ---     ┆ ---      ┆ ---    ┆ t            ┆ ght         ┆ ---       ┆ affinity    ┆ _ratio      │\n",
      "│ i32     ┆ i32      ┆ i32    ┆ ---          ┆ ---         ┆ f64       ┆ ---         ┆ ---         │\n",
      "│         ┆          ┆        ┆ i64          ┆ i64         ┆           ┆ f64         ┆ f64         │\n",
      "╞═════════╪══════════╪════════╪══════════════╪═════════════╪═══════════╪═════════════╪═════════════╡\n",
      "│ null    ┆ null     ┆ 0      ┆ 435969       ┆ 68562711    ┆ null      ┆ 0.619048    ┆ 0.006667    │\n",
      "│ null    ┆ null     ┆ 0      ┆ 1084605      ┆ 73122673    ┆ null      ┆ 0.344086    ┆ 0.001195    │\n",
      "│ null    ┆ null     ┆ 0      ┆ 746156       ┆ 25301458    ┆ 0.003343  ┆ null        ┆ null        │\n",
      "│ null    ┆ null     ┆ 0      ┆ 716553       ┆ 1695521     ┆ 0.079709  ┆ null        ┆ null        │\n",
      "│ null    ┆ null     ┆ 0      ┆ 850518       ┆ 3918062     ┆ null      ┆ 0.04542     ┆ 0.001908    │\n",
      "│ …       ┆ …        ┆ …      ┆ …            ┆ …           ┆ …         ┆ …           ┆ …           │\n",
      "│ null    ┆ null     ┆ 0      ┆ 1164056      ┆ 1703893     ┆ 0.05628   ┆ null        ┆ null        │\n",
      "│ null    ┆ null     ┆ 0      ┆ 798623       ┆ 31635004    ┆ null      ┆ 0.007605    ┆ 0.001901    │\n",
      "│ null    ┆ null     ┆ 0      ┆ 1137569      ┆ 90390473    ┆ null      ┆ 0.247283    ┆ 0.002717    │\n",
      "│ null    ┆ null     ┆ 0      ┆ 312935       ┆ 53037187    ┆ null      ┆ 0.762646    ┆ 0.001946    │\n",
      "│ null    ┆ null     ┆ 0      ┆ 202550       ┆ 21565368    ┆ 0.000901  ┆ null        ┆ null        │\n",
      "└─────────┴──────────┴────────┴──────────────┴─────────────┴───────────┴─────────────┴─────────────┘\n"
     ]
    }
   ],
   "source": [
    "events_labels = pl.from_pandas(events_labels)\n",
    "# Add the target column to events_labels with a value of 1\n",
    "events_labels = events_labels.with_columns(pl.lit(1).alias(\"target\"))\n",
    "\n",
    "# Perform an outer join on user_id and track_id\n",
    "candidates = (\n",
    "    events_labels.select([\"user_id\", \"track_id\", \"target\"])\n",
    "    .join(candidates, \n",
    "    on=[\"user_id\", \"track_id\"], \n",
    "    how=\"outer\")\n",
    ")\n",
    "\n",
    "# Fill null values in the target column with 0 and convert to integer\n",
    "candidates = candidates.with_columns(\n",
    "    pl.col(\"target\").fill_null(0).cast(pl.Int32)\n",
    ")\n",
    "\n",
    "# Sample 50 rows from the candidates DataFrame\n",
    "print(candidates.sample(50))"
   ]
  },
  {
   "cell_type": "code",
   "execution_count": 12,
   "id": "8756e6d4",
   "metadata": {},
   "outputs": [],
   "source": [
    "\n",
    "candidates = candidates.with_columns(pl.col('user_id').fill_null(pl.col('user_id_right')).alias('user_id'))\n",
    "\n",
    "# Заполняем пропуски в столбце 'track_id' соответствующими значениями из 'track_id_right'\n",
    "candidates = candidates.with_columns(pl.col('track_id').fill_null(pl.col('track_id_right')).alias('track_id'))\n",
    "candidates = candidates.select(['user_id',\t'track_id',\t'als_score',\t'user_genre_affinity',\t'user_artist_ratio','target'])\n",
    "candidates.write_parquet('data/candidates_target.parquet')"
   ]
  },
  {
   "cell_type": "code",
   "execution_count": 7,
   "id": "271b34f6",
   "metadata": {},
   "outputs": [],
   "source": [
    "candidates = pl.read_parquet('data/candidates_target.parquet')"
   ]
  },
  {
   "cell_type": "code",
   "execution_count": 9,
   "id": "c35c9b5c",
   "metadata": {},
   "outputs": [
    {
     "name": "stdout",
     "output_type": "stream",
     "text": [
      "shape: (8_946_262, 6)\n",
      "┌─────────┬──────────┬───────────┬─────────────────────┬───────────────────┬────────┐\n",
      "│ user_id ┆ track_id ┆ als_score ┆ user_genre_affinity ┆ user_artist_ratio ┆ target │\n",
      "│ ---     ┆ ---      ┆ ---       ┆ ---                 ┆ ---               ┆ ---    │\n",
      "│ i64     ┆ i64      ┆ f64       ┆ f64                 ┆ f64               ┆ i32    │\n",
      "╞═════════╪══════════╪═══════════╪═════════════════════╪═══════════════════╪════════╡\n",
      "│ 69778   ┆ 58609142 ┆ 0.549803  ┆ null                ┆ null              ┆ 1      │\n",
      "│ 106629  ┆ 29456722 ┆ 0.075868  ┆ null                ┆ null              ┆ 1      │\n",
      "│ 1363837 ┆ 66726338 ┆ 0.101642  ┆ null                ┆ null              ┆ 1      │\n",
      "│ 1160082 ┆ 4447862  ┆ 0.012785  ┆ null                ┆ null              ┆ 1      │\n",
      "│ 757986  ┆ 25727188 ┆ 0.220306  ┆ null                ┆ null              ┆ 1      │\n",
      "│ …       ┆ …        ┆ …         ┆ …                   ┆ …                 ┆ …      │\n",
      "│ 974311  ┆ 10241    ┆ null      ┆ 0.004484            ┆ 0.008969          ┆ 0      │\n",
      "│ 1306722 ┆ 2137417  ┆ null      ┆ 0.760829            ┆ 0.013183          ┆ 0      │\n",
      "│ 1306722 ┆ 2137430  ┆ null      ┆ 0.760829            ┆ 0.013183          ┆ 0      │\n",
      "│ 1306722 ┆ 2218179  ┆ null      ┆ 0.760829            ┆ 0.001883          ┆ 0      │\n",
      "│ 1306722 ┆ 2218910  ┆ null      ┆ 0.760829            ┆ 0.001883          ┆ 0      │\n",
      "└─────────┴──────────┴───────────┴─────────────────────┴───────────────────┴────────┘\n"
     ]
    }
   ],
   "source": [
    "# Выбираем кандидатов, у которых хотя бы в одной строке 'target' равно 1\n",
    "candidates_with_target_1 = candidates.filter(pl.col(\"target\") == 1)\n",
    "user_id_list = list(candidates_with_target_1.select(\"user_id\").unique())[0]\n",
    "selected_candidates = candidates.filter(pl.col(\"user_id\").is_in(user_id_list))\n",
    "# Выбираем ещё 4 примера, где 'target' равно 0 для каждого 'user_id'\n",
    "candidates_with_target_0 = selected_candidates.filter(pl.col(\"target\") == 0).group_by(\"user_id\").head(4)\n",
    "\n",
    "# Объединяем выбранные кандидаты\n",
    "filtered_candidates = pl.concat([candidates_with_target_1, candidates_with_target_0])\n",
    "\n",
    "print(filtered_candidates)\n"
   ]
  },
  {
   "cell_type": "code",
   "execution_count": 31,
   "id": "ac4aea0b",
   "metadata": {},
   "outputs": [
    {
     "name": "stdout",
     "output_type": "stream",
     "text": [
      "Looking in indexes: https://pypi.org/simple, https://pypi.ngc.nvidia.com\n",
      "Collecting catboost\n",
      "  Downloading catboost-1.2.8-cp312-cp312-win_amd64.whl.metadata (1.5 kB)\n",
      "Collecting graphviz (from catboost)\n",
      "  Downloading graphviz-0.20.3-py3-none-any.whl.metadata (12 kB)\n",
      "Requirement already satisfied: matplotlib in c:\\users\\admin\\miniconda3\\lib\\site-packages (from catboost) (3.10.1)\n",
      "Requirement already satisfied: numpy<3.0,>=1.16.0 in c:\\users\\admin\\miniconda3\\lib\\site-packages (from catboost) (2.2.4)\n",
      "Requirement already satisfied: pandas>=0.24 in c:\\users\\admin\\miniconda3\\lib\\site-packages (from catboost) (2.2.3)\n",
      "Requirement already satisfied: scipy in c:\\users\\admin\\miniconda3\\lib\\site-packages (from catboost) (1.15.2)\n",
      "Collecting plotly (from catboost)\n",
      "  Downloading plotly-6.0.1-py3-none-any.whl.metadata (6.7 kB)\n",
      "Requirement already satisfied: six in c:\\users\\admin\\miniconda3\\lib\\site-packages (from catboost) (1.16.0)\n",
      "Requirement already satisfied: python-dateutil>=2.8.2 in c:\\users\\admin\\miniconda3\\lib\\site-packages (from pandas>=0.24->catboost) (2.9.0.post0)\n",
      "Requirement already satisfied: pytz>=2020.1 in c:\\users\\admin\\miniconda3\\lib\\site-packages (from pandas>=0.24->catboost) (2025.2)\n",
      "Requirement already satisfied: tzdata>=2022.7 in c:\\users\\admin\\miniconda3\\lib\\site-packages (from pandas>=0.24->catboost) (2025.2)\n",
      "Requirement already satisfied: contourpy>=1.0.1 in c:\\users\\admin\\miniconda3\\lib\\site-packages (from matplotlib->catboost) (1.3.2)\n",
      "Requirement already satisfied: cycler>=0.10 in c:\\users\\admin\\miniconda3\\lib\\site-packages (from matplotlib->catboost) (0.12.1)\n",
      "Requirement already satisfied: fonttools>=4.22.0 in c:\\users\\admin\\miniconda3\\lib\\site-packages (from matplotlib->catboost) (4.57.0)\n",
      "Requirement already satisfied: kiwisolver>=1.3.1 in c:\\users\\admin\\miniconda3\\lib\\site-packages (from matplotlib->catboost) (1.4.8)\n",
      "Requirement already satisfied: packaging>=20.0 in c:\\users\\admin\\miniconda3\\lib\\site-packages (from matplotlib->catboost) (23.2)\n",
      "Requirement already satisfied: pillow>=8 in c:\\users\\admin\\miniconda3\\lib\\site-packages (from matplotlib->catboost) (11.2.1)\n",
      "Requirement already satisfied: pyparsing>=2.3.1 in c:\\users\\admin\\miniconda3\\lib\\site-packages (from matplotlib->catboost) (3.2.3)\n",
      "Collecting narwhals>=1.15.1 (from plotly->catboost)\n",
      "  Downloading narwhals-1.36.0-py3-none-any.whl.metadata (9.2 kB)\n",
      "Downloading catboost-1.2.8-cp312-cp312-win_amd64.whl (102.4 MB)\n",
      "   ---------------------------------------- 0.0/102.4 MB ? eta -:--:--\n",
      "   ---------------------------------------- 0.0/102.4 MB 1.3 MB/s eta 0:01:20\n",
      "   ---------------------------------------- 0.1/102.4 MB 787.7 kB/s eta 0:02:10\n",
      "   ---------------------------------------- 0.1/102.4 MB 1.1 MB/s eta 0:01:37\n",
      "   ---------------------------------------- 0.3/102.4 MB 1.6 MB/s eta 0:01:04\n",
      "   ---------------------------------------- 0.5/102.4 MB 2.2 MB/s eta 0:00:47\n",
      "   ---------------------------------------- 0.7/102.4 MB 2.4 MB/s eta 0:00:43\n",
      "   ---------------------------------------- 0.8/102.4 MB 2.4 MB/s eta 0:00:42\n",
      "   ---------------------------------------- 1.3/102.4 MB 3.3 MB/s eta 0:00:31\n",
      "    --------------------------------------- 1.7/102.4 MB 3.9 MB/s eta 0:00:26\n",
      "    --------------------------------------- 1.7/102.4 MB 3.9 MB/s eta 0:00:26\n",
      "    --------------------------------------- 1.7/102.4 MB 3.3 MB/s eta 0:00:31\n",
      "    --------------------------------------- 1.7/102.4 MB 3.3 MB/s eta 0:00:31\n",
      "    --------------------------------------- 2.5/102.4 MB 4.3 MB/s eta 0:00:24\n",
      "   - -------------------------------------- 2.8/102.4 MB 4.2 MB/s eta 0:00:24\n",
      "   - -------------------------------------- 3.0/102.4 MB 4.2 MB/s eta 0:00:24\n",
      "   - -------------------------------------- 3.5/102.4 MB 4.7 MB/s eta 0:00:21\n",
      "   - -------------------------------------- 3.8/102.4 MB 4.8 MB/s eta 0:00:21\n",
      "   - -------------------------------------- 4.1/102.4 MB 5.0 MB/s eta 0:00:20\n",
      "   - -------------------------------------- 4.1/102.4 MB 5.0 MB/s eta 0:00:20\n",
      "   - -------------------------------------- 5.1/102.4 MB 5.6 MB/s eta 0:00:18\n",
      "   -- ------------------------------------- 6.0/102.4 MB 6.1 MB/s eta 0:00:16\n",
      "   -- ------------------------------------- 6.6/102.4 MB 6.4 MB/s eta 0:00:16\n",
      "   -- ------------------------------------- 7.1/102.4 MB 6.6 MB/s eta 0:00:15\n",
      "   -- ------------------------------------- 7.7/102.4 MB 6.8 MB/s eta 0:00:14\n",
      "   --- ------------------------------------ 8.2/102.4 MB 7.0 MB/s eta 0:00:14\n",
      "   --- ------------------------------------ 8.7/102.4 MB 7.2 MB/s eta 0:00:13\n",
      "   --- ------------------------------------ 9.2/102.4 MB 7.4 MB/s eta 0:00:13\n",
      "   --- ------------------------------------ 9.8/102.4 MB 7.5 MB/s eta 0:00:13\n",
      "   ---- ----------------------------------- 10.3/102.4 MB 8.2 MB/s eta 0:00:12\n",
      "   ---- ----------------------------------- 10.9/102.4 MB 9.1 MB/s eta 0:00:11\n",
      "   ---- ----------------------------------- 11.4/102.4 MB 9.5 MB/s eta 0:00:10\n",
      "   ---- ----------------------------------- 12.0/102.4 MB 11.3 MB/s eta 0:00:09\n",
      "   ---- ----------------------------------- 12.5/102.4 MB 10.9 MB/s eta 0:00:09\n",
      "   ----- ---------------------------------- 13.1/102.4 MB 11.1 MB/s eta 0:00:09\n",
      "   ----- ---------------------------------- 13.6/102.4 MB 11.5 MB/s eta 0:00:08\n",
      "   ----- ---------------------------------- 14.2/102.4 MB 11.7 MB/s eta 0:00:08\n",
      "   ----- ---------------------------------- 14.7/102.4 MB 12.6 MB/s eta 0:00:07\n",
      "   ----- ---------------------------------- 15.3/102.4 MB 11.9 MB/s eta 0:00:08\n",
      "   ------ --------------------------------- 15.8/102.4 MB 11.9 MB/s eta 0:00:08\n",
      "   ------ --------------------------------- 16.4/102.4 MB 11.7 MB/s eta 0:00:08\n",
      "   ------ --------------------------------- 16.9/102.4 MB 11.7 MB/s eta 0:00:08\n",
      "   ------ --------------------------------- 17.4/102.4 MB 11.7 MB/s eta 0:00:08\n",
      "   ------- -------------------------------- 18.0/102.4 MB 11.7 MB/s eta 0:00:08\n",
      "   ------- -------------------------------- 18.5/102.4 MB 11.7 MB/s eta 0:00:08\n",
      "   ------- -------------------------------- 19.0/102.4 MB 11.7 MB/s eta 0:00:08\n",
      "   ------- -------------------------------- 19.5/102.4 MB 11.7 MB/s eta 0:00:08\n",
      "   ------- -------------------------------- 20.0/102.4 MB 11.5 MB/s eta 0:00:08\n",
      "   -------- ------------------------------- 20.6/102.4 MB 11.5 MB/s eta 0:00:08\n",
      "   -------- ------------------------------- 21.1/102.4 MB 11.5 MB/s eta 0:00:08\n",
      "   -------- ------------------------------- 21.6/102.4 MB 11.5 MB/s eta 0:00:08\n",
      "   -------- ------------------------------- 22.1/102.4 MB 11.5 MB/s eta 0:00:07\n",
      "   -------- ------------------------------- 22.7/102.4 MB 11.5 MB/s eta 0:00:07\n",
      "   --------- ------------------------------ 23.2/102.4 MB 11.5 MB/s eta 0:00:07\n",
      "   --------- ------------------------------ 23.8/102.4 MB 11.5 MB/s eta 0:00:07\n",
      "   --------- ------------------------------ 24.4/102.4 MB 11.5 MB/s eta 0:00:07\n",
      "   --------- ------------------------------ 24.9/102.4 MB 11.5 MB/s eta 0:00:07\n",
      "   --------- ------------------------------ 25.5/102.4 MB 11.5 MB/s eta 0:00:07\n",
      "   ---------- ----------------------------- 26.0/102.4 MB 11.5 MB/s eta 0:00:07\n",
      "   ---------- ----------------------------- 26.5/102.4 MB 11.5 MB/s eta 0:00:07\n",
      "   ---------- ----------------------------- 27.1/102.4 MB 11.5 MB/s eta 0:00:07\n",
      "   ---------- ----------------------------- 27.6/102.4 MB 11.5 MB/s eta 0:00:07\n",
      "   ---------- ----------------------------- 28.1/102.4 MB 11.5 MB/s eta 0:00:07\n",
      "   ----------- ---------------------------- 28.7/102.4 MB 11.5 MB/s eta 0:00:07\n",
      "   ----------- ---------------------------- 29.2/102.4 MB 11.5 MB/s eta 0:00:07\n",
      "   ----------- ---------------------------- 29.8/102.4 MB 11.5 MB/s eta 0:00:07\n",
      "   ----------- ---------------------------- 30.3/102.4 MB 11.5 MB/s eta 0:00:07\n",
      "   ------------ --------------------------- 30.9/102.4 MB 11.7 MB/s eta 0:00:07\n",
      "   ------------ --------------------------- 31.4/102.4 MB 11.7 MB/s eta 0:00:07\n",
      "   ------------ --------------------------- 32.0/102.4 MB 11.7 MB/s eta 0:00:07\n",
      "   ------------ --------------------------- 32.5/102.4 MB 11.7 MB/s eta 0:00:06\n",
      "   ------------ --------------------------- 33.1/102.4 MB 11.7 MB/s eta 0:00:06\n",
      "   ------------- -------------------------- 33.7/102.4 MB 11.7 MB/s eta 0:00:06\n",
      "   ------------- -------------------------- 34.2/102.4 MB 11.7 MB/s eta 0:00:06\n",
      "   ------------- -------------------------- 34.8/102.4 MB 11.7 MB/s eta 0:00:06\n",
      "   ------------- -------------------------- 35.3/102.4 MB 11.7 MB/s eta 0:00:06\n",
      "   ------------- -------------------------- 35.6/102.4 MB 11.7 MB/s eta 0:00:06\n",
      "   ------------- -------------------------- 35.6/102.4 MB 11.7 MB/s eta 0:00:06\n",
      "   -------------- ------------------------- 36.2/102.4 MB 10.7 MB/s eta 0:00:07\n",
      "   -------------- ------------------------- 37.2/102.4 MB 11.5 MB/s eta 0:00:06\n",
      "   -------------- ------------------------- 37.7/102.4 MB 11.5 MB/s eta 0:00:06\n",
      "   -------------- ------------------------- 38.1/102.4 MB 11.1 MB/s eta 0:00:06\n",
      "   --------------- ------------------------ 38.6/102.4 MB 11.1 MB/s eta 0:00:06\n",
      "   --------------- ------------------------ 39.0/102.4 MB 10.9 MB/s eta 0:00:06\n",
      "   --------------- ------------------------ 39.5/102.4 MB 10.9 MB/s eta 0:00:06\n",
      "   --------------- ------------------------ 39.9/102.4 MB 10.7 MB/s eta 0:00:06\n",
      "   --------------- ------------------------ 40.4/102.4 MB 10.7 MB/s eta 0:00:06\n",
      "   --------------- ------------------------ 40.8/102.4 MB 10.6 MB/s eta 0:00:06\n",
      "   ---------------- ----------------------- 41.3/102.4 MB 10.6 MB/s eta 0:00:06\n",
      "   ---------------- ----------------------- 41.8/102.4 MB 10.6 MB/s eta 0:00:06\n",
      "   ---------------- ----------------------- 42.2/102.4 MB 10.2 MB/s eta 0:00:06\n",
      "   ---------------- ----------------------- 42.6/102.4 MB 10.4 MB/s eta 0:00:06\n",
      "   ---------------- ----------------------- 43.1/102.4 MB 10.2 MB/s eta 0:00:06\n",
      "   ----------------- ---------------------- 43.6/102.4 MB 10.2 MB/s eta 0:00:06\n",
      "   ----------------- ---------------------- 44.1/102.4 MB 10.1 MB/s eta 0:00:06\n",
      "   ----------------- ---------------------- 44.5/102.4 MB 9.9 MB/s eta 0:00:06\n",
      "   ----------------- ---------------------- 45.0/102.4 MB 9.9 MB/s eta 0:00:06\n",
      "   ----------------- ---------------------- 45.4/102.4 MB 9.8 MB/s eta 0:00:06\n",
      "   ----------------- ---------------------- 45.9/102.4 MB 10.6 MB/s eta 0:00:06\n",
      "   ------------------ --------------------- 46.4/102.4 MB 10.6 MB/s eta 0:00:06\n",
      "   ------------------ --------------------- 46.8/102.4 MB 10.1 MB/s eta 0:00:06\n",
      "   ------------------ --------------------- 47.3/102.4 MB 9.8 MB/s eta 0:00:06\n",
      "   ------------------ --------------------- 47.8/102.4 MB 9.9 MB/s eta 0:00:06\n",
      "   ------------------ --------------------- 48.3/102.4 MB 9.9 MB/s eta 0:00:06\n",
      "   ------------------- -------------------- 48.8/102.4 MB 9.9 MB/s eta 0:00:06\n",
      "   ------------------- -------------------- 49.2/102.4 MB 9.9 MB/s eta 0:00:06\n",
      "   ------------------- -------------------- 49.7/102.4 MB 10.1 MB/s eta 0:00:06\n",
      "   ------------------- -------------------- 50.2/102.4 MB 10.1 MB/s eta 0:00:06\n",
      "   ------------------- -------------------- 50.6/102.4 MB 9.9 MB/s eta 0:00:06\n",
      "   ------------------- -------------------- 51.1/102.4 MB 10.1 MB/s eta 0:00:06\n",
      "   -------------------- ------------------- 51.5/102.4 MB 9.9 MB/s eta 0:00:06\n",
      "   -------------------- ------------------- 52.0/102.4 MB 10.1 MB/s eta 0:00:06\n",
      "   -------------------- ------------------- 52.5/102.4 MB 10.1 MB/s eta 0:00:05\n",
      "   -------------------- ------------------- 53.0/102.4 MB 10.1 MB/s eta 0:00:05\n",
      "   -------------------- ------------------- 53.5/102.4 MB 10.2 MB/s eta 0:00:05\n",
      "   --------------------- ------------------ 54.0/102.4 MB 10.2 MB/s eta 0:00:05\n",
      "   --------------------- ------------------ 54.5/102.4 MB 10.2 MB/s eta 0:00:05\n",
      "   --------------------- ------------------ 55.0/102.4 MB 10.2 MB/s eta 0:00:05\n",
      "   --------------------- ------------------ 55.5/102.4 MB 10.2 MB/s eta 0:00:05\n",
      "   --------------------- ------------------ 55.9/102.4 MB 10.2 MB/s eta 0:00:05\n",
      "   ---------------------- ----------------- 56.4/102.4 MB 10.2 MB/s eta 0:00:05\n",
      "   ---------------------- ----------------- 56.9/102.4 MB 10.2 MB/s eta 0:00:05\n",
      "   ---------------------- ----------------- 57.4/102.4 MB 10.2 MB/s eta 0:00:05\n",
      "   ---------------------- ----------------- 57.9/102.4 MB 10.4 MB/s eta 0:00:05\n",
      "   ---------------------- ----------------- 58.4/102.4 MB 10.4 MB/s eta 0:00:05\n",
      "   ----------------------- ---------------- 58.9/102.4 MB 10.4 MB/s eta 0:00:05\n",
      "   ----------------------- ---------------- 59.4/102.4 MB 10.4 MB/s eta 0:00:05\n",
      "   ----------------------- ---------------- 59.9/102.4 MB 10.4 MB/s eta 0:00:05\n",
      "   ----------------------- ---------------- 60.4/102.4 MB 10.4 MB/s eta 0:00:05\n",
      "   ----------------------- ---------------- 60.9/102.4 MB 10.6 MB/s eta 0:00:04\n",
      "   ----------------------- ---------------- 61.4/102.4 MB 10.6 MB/s eta 0:00:04\n",
      "   ------------------------ --------------- 61.9/102.4 MB 10.6 MB/s eta 0:00:04\n",
      "   ------------------------ --------------- 62.4/102.4 MB 10.6 MB/s eta 0:00:04\n",
      "   ------------------------ --------------- 62.8/102.4 MB 10.6 MB/s eta 0:00:04\n",
      "   ------------------------ --------------- 63.3/102.4 MB 10.4 MB/s eta 0:00:04\n",
      "   ------------------------ --------------- 63.8/102.4 MB 10.4 MB/s eta 0:00:04\n",
      "   ------------------------- -------------- 64.3/102.4 MB 10.4 MB/s eta 0:00:04\n",
      "   ------------------------- -------------- 64.8/102.4 MB 10.6 MB/s eta 0:00:04\n",
      "   ------------------------- -------------- 65.3/102.4 MB 10.6 MB/s eta 0:00:04\n",
      "   ------------------------- -------------- 65.8/102.4 MB 10.6 MB/s eta 0:00:04\n",
      "   ------------------------- -------------- 66.4/102.4 MB 10.6 MB/s eta 0:00:04\n",
      "   -------------------------- ------------- 66.9/102.4 MB 10.6 MB/s eta 0:00:04\n",
      "   -------------------------- ------------- 67.4/102.4 MB 10.6 MB/s eta 0:00:04\n",
      "   -------------------------- ------------- 67.9/102.4 MB 10.7 MB/s eta 0:00:04\n",
      "   -------------------------- ------------- 68.3/102.4 MB 10.7 MB/s eta 0:00:04\n",
      "   -------------------------- ------------- 68.8/102.4 MB 10.6 MB/s eta 0:00:04\n",
      "   --------------------------- ------------ 69.3/102.4 MB 10.6 MB/s eta 0:00:04\n",
      "   --------------------------- ------------ 69.8/102.4 MB 10.6 MB/s eta 0:00:04\n",
      "   --------------------------- ------------ 70.3/102.4 MB 10.6 MB/s eta 0:00:04\n",
      "   --------------------------- ------------ 70.9/102.4 MB 10.6 MB/s eta 0:00:03\n",
      "   --------------------------- ------------ 71.4/102.4 MB 10.6 MB/s eta 0:00:03\n",
      "   ---------------------------- ----------- 71.9/102.4 MB 10.6 MB/s eta 0:00:03\n",
      "   ---------------------------- ----------- 72.4/102.4 MB 10.7 MB/s eta 0:00:03\n",
      "   ---------------------------- ----------- 72.9/102.4 MB 10.7 MB/s eta 0:00:03\n",
      "   ---------------------------- ----------- 73.4/102.4 MB 10.7 MB/s eta 0:00:03\n",
      "   ---------------------------- ----------- 74.0/102.4 MB 11.1 MB/s eta 0:00:03\n",
      "   ----------------------------- ---------- 74.5/102.4 MB 10.9 MB/s eta 0:00:03\n",
      "   ----------------------------- ---------- 75.0/102.4 MB 10.9 MB/s eta 0:00:03\n",
      "   ----------------------------- ---------- 75.5/102.4 MB 10.9 MB/s eta 0:00:03\n",
      "   ----------------------------- ---------- 75.9/102.4 MB 10.9 MB/s eta 0:00:03\n",
      "   ----------------------------- ---------- 76.4/102.4 MB 10.9 MB/s eta 0:00:03\n",
      "   ----------------------------- ---------- 76.5/102.4 MB 10.7 MB/s eta 0:00:03\n",
      "   ------------------------------ --------- 77.3/102.4 MB 10.7 MB/s eta 0:00:03\n",
      "   ------------------------------ --------- 77.7/102.4 MB 10.6 MB/s eta 0:00:03\n",
      "   ------------------------------ --------- 78.1/102.4 MB 10.4 MB/s eta 0:00:03\n",
      "   ------------------------------ --------- 78.4/102.4 MB 10.4 MB/s eta 0:00:03\n",
      "   ------------------------------ --------- 78.8/102.4 MB 10.2 MB/s eta 0:00:03\n",
      "   ------------------------------ --------- 79.2/102.4 MB 10.2 MB/s eta 0:00:03\n",
      "   ------------------------------- -------- 79.6/102.4 MB 10.1 MB/s eta 0:00:03\n",
      "   ------------------------------- -------- 79.9/102.4 MB 9.9 MB/s eta 0:00:03\n",
      "   ------------------------------- -------- 80.3/102.4 MB 9.8 MB/s eta 0:00:03\n",
      "   ------------------------------- -------- 80.7/102.4 MB 9.6 MB/s eta 0:00:03\n",
      "   ------------------------------- -------- 81.1/102.4 MB 9.6 MB/s eta 0:00:03\n",
      "   ------------------------------- -------- 81.5/102.4 MB 9.5 MB/s eta 0:00:03\n",
      "   ------------------------------- -------- 81.8/102.4 MB 9.4 MB/s eta 0:00:03\n",
      "   -------------------------------- ------- 82.2/102.4 MB 9.2 MB/s eta 0:00:03\n",
      "   -------------------------------- ------- 82.6/102.4 MB 9.2 MB/s eta 0:00:03\n",
      "   -------------------------------- ------- 83.0/102.4 MB 9.1 MB/s eta 0:00:03\n",
      "   -------------------------------- ------- 83.4/102.4 MB 9.0 MB/s eta 0:00:03\n",
      "   -------------------------------- ------- 83.8/102.4 MB 8.8 MB/s eta 0:00:03\n",
      "   -------------------------------- ------- 84.2/102.4 MB 8.8 MB/s eta 0:00:03\n",
      "   --------------------------------- ------ 84.6/102.4 MB 8.7 MB/s eta 0:00:03\n",
      "   --------------------------------- ------ 85.0/102.4 MB 8.6 MB/s eta 0:00:03\n",
      "   --------------------------------- ------ 85.4/102.4 MB 8.5 MB/s eta 0:00:03\n",
      "   --------------------------------- ------ 85.8/102.4 MB 8.5 MB/s eta 0:00:02\n",
      "   --------------------------------- ------ 86.2/102.4 MB 8.4 MB/s eta 0:00:02\n",
      "   --------------------------------- ------ 86.6/102.4 MB 8.4 MB/s eta 0:00:02\n",
      "   --------------------------------- ------ 87.0/102.4 MB 8.7 MB/s eta 0:00:02\n",
      "   ---------------------------------- ----- 87.4/102.4 MB 8.4 MB/s eta 0:00:02\n",
      "   ---------------------------------- ----- 87.8/102.4 MB 8.3 MB/s eta 0:00:02\n",
      "   ---------------------------------- ----- 88.2/102.4 MB 8.3 MB/s eta 0:00:02\n",
      "   ---------------------------------- ----- 88.6/102.4 MB 8.4 MB/s eta 0:00:02\n",
      "   ---------------------------------- ----- 89.0/102.4 MB 8.4 MB/s eta 0:00:02\n",
      "   ---------------------------------- ----- 89.4/102.4 MB 8.4 MB/s eta 0:00:02\n",
      "   ----------------------------------- ---- 89.8/102.4 MB 8.4 MB/s eta 0:00:02\n",
      "   ----------------------------------- ---- 90.3/102.4 MB 8.5 MB/s eta 0:00:02\n",
      "   ----------------------------------- ---- 90.7/102.4 MB 8.5 MB/s eta 0:00:02\n",
      "   ----------------------------------- ---- 91.1/102.4 MB 8.5 MB/s eta 0:00:02\n",
      "   ----------------------------------- ---- 91.5/102.4 MB 8.6 MB/s eta 0:00:02\n",
      "   ----------------------------------- ---- 91.9/102.4 MB 8.6 MB/s eta 0:00:02\n",
      "   ------------------------------------ --- 92.3/102.4 MB 8.6 MB/s eta 0:00:02\n",
      "   ------------------------------------ --- 92.7/102.4 MB 8.6 MB/s eta 0:00:02\n",
      "   ------------------------------------ --- 93.2/102.4 MB 8.6 MB/s eta 0:00:02\n",
      "   ------------------------------------ --- 93.6/102.4 MB 8.6 MB/s eta 0:00:02\n",
      "   ------------------------------------ --- 94.0/102.4 MB 8.7 MB/s eta 0:00:01\n",
      "   ------------------------------------ --- 94.4/102.4 MB 8.7 MB/s eta 0:00:01\n",
      "   ------------------------------------- -- 94.8/102.4 MB 8.7 MB/s eta 0:00:01\n",
      "   ------------------------------------- -- 95.3/102.4 MB 8.8 MB/s eta 0:00:01\n",
      "   ------------------------------------- -- 95.7/102.4 MB 8.8 MB/s eta 0:00:01\n",
      "   ------------------------------------- -- 96.1/102.4 MB 8.8 MB/s eta 0:00:01\n",
      "   ------------------------------------- -- 96.5/102.4 MB 9.0 MB/s eta 0:00:01\n",
      "   ------------------------------------- -- 96.9/102.4 MB 8.8 MB/s eta 0:00:01\n",
      "   -------------------------------------- - 97.4/102.4 MB 8.8 MB/s eta 0:00:01\n",
      "   -------------------------------------- - 97.8/102.4 MB 8.8 MB/s eta 0:00:01\n",
      "   -------------------------------------- - 98.2/102.4 MB 8.8 MB/s eta 0:00:01\n",
      "   -------------------------------------- - 98.7/102.4 MB 8.8 MB/s eta 0:00:01\n",
      "   -------------------------------------- - 99.1/102.4 MB 9.0 MB/s eta 0:00:01\n",
      "   -------------------------------------- - 99.5/102.4 MB 8.8 MB/s eta 0:00:01\n",
      "   ---------------------------------------  99.9/102.4 MB 9.0 MB/s eta 0:00:01\n",
      "   ---------------------------------------  100.3/102.4 MB 9.1 MB/s eta 0:00:01\n",
      "   ---------------------------------------  100.8/102.4 MB 9.0 MB/s eta 0:00:01\n",
      "   ---------------------------------------  101.3/102.4 MB 9.0 MB/s eta 0:00:01\n",
      "   ---------------------------------------  101.6/102.4 MB 9.1 MB/s eta 0:00:01\n",
      "   ---------------------------------------  101.6/102.4 MB 9.1 MB/s eta 0:00:01\n",
      "   ---------------------------------------  102.4/102.4 MB 9.1 MB/s eta 0:00:01\n",
      "   ---------------------------------------- 102.4/102.4 MB 9.0 MB/s eta 0:00:00\n",
      "Downloading graphviz-0.20.3-py3-none-any.whl (47 kB)\n",
      "   ---------------------------------------- 0.0/47.1 kB ? eta -:--:--\n",
      "   ---------------------------------------- 47.1/47.1 kB ? eta 0:00:00\n",
      "Downloading plotly-6.0.1-py3-none-any.whl (14.8 MB)\n",
      "   ---------------------------------------- 0.0/14.8 MB ? eta -:--:--\n",
      "    --------------------------------------- 0.3/14.8 MB 6.5 MB/s eta 0:00:03\n",
      "   - -------------------------------------- 0.6/14.8 MB 7.2 MB/s eta 0:00:02\n",
      "   -- ------------------------------------- 0.9/14.8 MB 6.4 MB/s eta 0:00:03\n",
      "   --- ------------------------------------ 1.2/14.8 MB 6.5 MB/s eta 0:00:03\n",
      "   ---- ----------------------------------- 1.5/14.8 MB 6.4 MB/s eta 0:00:03\n",
      "   ---- ----------------------------------- 1.8/14.8 MB 6.9 MB/s eta 0:00:02\n",
      "   ----- ---------------------------------- 2.1/14.8 MB 6.7 MB/s eta 0:00:02\n",
      "   ----- ---------------------------------- 2.1/14.8 MB 6.7 MB/s eta 0:00:02\n",
      "   ------- -------------------------------- 2.7/14.8 MB 6.7 MB/s eta 0:00:02\n",
      "   ------- -------------------------------- 2.9/14.8 MB 6.4 MB/s eta 0:00:02\n",
      "   -------- ------------------------------- 3.1/14.8 MB 6.3 MB/s eta 0:00:02\n",
      "   --------- ------------------------------ 3.4/14.8 MB 6.2 MB/s eta 0:00:02\n",
      "   --------- ------------------------------ 3.6/14.8 MB 6.0 MB/s eta 0:00:02\n",
      "   ---------- ----------------------------- 3.8/14.8 MB 5.9 MB/s eta 0:00:02\n",
      "   ---------- ----------------------------- 4.1/14.8 MB 5.9 MB/s eta 0:00:02\n",
      "   ----------- ---------------------------- 4.3/14.8 MB 5.8 MB/s eta 0:00:02\n",
      "   ------------ --------------------------- 4.5/14.8 MB 5.8 MB/s eta 0:00:02\n",
      "   ------------ --------------------------- 4.8/14.8 MB 5.7 MB/s eta 0:00:02\n",
      "   ------------- -------------------------- 5.0/14.8 MB 5.7 MB/s eta 0:00:02\n",
      "   -------------- ------------------------- 5.2/14.8 MB 5.6 MB/s eta 0:00:02\n",
      "   -------------- ------------------------- 5.5/14.8 MB 5.6 MB/s eta 0:00:02\n",
      "   --------------- ------------------------ 5.7/14.8 MB 5.6 MB/s eta 0:00:02\n",
      "   --------------- ------------------------ 5.9/14.8 MB 5.5 MB/s eta 0:00:02\n",
      "   ---------------- ----------------------- 6.2/14.8 MB 5.5 MB/s eta 0:00:02\n",
      "   ----------------- ---------------------- 6.4/14.8 MB 5.5 MB/s eta 0:00:02\n",
      "   ----------------- ---------------------- 6.6/14.8 MB 5.5 MB/s eta 0:00:02\n",
      "   ------------------ --------------------- 6.9/14.8 MB 5.5 MB/s eta 0:00:02\n",
      "   ------------------- -------------------- 7.1/14.8 MB 5.5 MB/s eta 0:00:02\n",
      "   ------------------- -------------------- 7.4/14.8 MB 5.5 MB/s eta 0:00:02\n",
      "   -------------------- ------------------- 7.6/14.8 MB 5.5 MB/s eta 0:00:02\n",
      "   --------------------- ------------------ 7.9/14.8 MB 5.5 MB/s eta 0:00:02\n",
      "   --------------------- ------------------ 8.1/14.8 MB 5.5 MB/s eta 0:00:02\n",
      "   ---------------------- ----------------- 8.3/14.8 MB 5.4 MB/s eta 0:00:02\n",
      "   ----------------------- ---------------- 8.6/14.8 MB 5.4 MB/s eta 0:00:02\n",
      "   ----------------------- ---------------- 8.8/14.8 MB 5.5 MB/s eta 0:00:02\n",
      "   ------------------------ --------------- 9.1/14.8 MB 5.4 MB/s eta 0:00:02\n",
      "   ------------------------- -------------- 9.3/14.8 MB 5.5 MB/s eta 0:00:02\n",
      "   ------------------------- -------------- 9.6/14.8 MB 5.5 MB/s eta 0:00:01\n",
      "   -------------------------- ------------- 9.8/14.8 MB 5.5 MB/s eta 0:00:01\n",
      "   --------------------------- ------------ 10.1/14.8 MB 5.5 MB/s eta 0:00:01\n",
      "   --------------------------- ------------ 10.4/14.8 MB 5.5 MB/s eta 0:00:01\n",
      "   ---------------------------- ----------- 10.6/14.8 MB 5.4 MB/s eta 0:00:01\n",
      "   ----------------------------- ---------- 10.9/14.8 MB 5.4 MB/s eta 0:00:01\n",
      "   ------------------------------ --------- 11.1/14.8 MB 5.4 MB/s eta 0:00:01\n",
      "   ------------------------------ --------- 11.4/14.8 MB 5.4 MB/s eta 0:00:01\n",
      "   ------------------------------- -------- 11.7/14.8 MB 5.3 MB/s eta 0:00:01\n",
      "   -------------------------------- ------- 11.9/14.8 MB 5.3 MB/s eta 0:00:01\n",
      "   -------------------------------- ------- 12.2/14.8 MB 5.3 MB/s eta 0:00:01\n",
      "   --------------------------------- ------ 12.4/14.8 MB 5.5 MB/s eta 0:00:01\n",
      "   ---------------------------------- ----- 12.7/14.8 MB 5.3 MB/s eta 0:00:01\n",
      "   ---------------------------------- ----- 13.0/14.8 MB 5.3 MB/s eta 0:00:01\n",
      "   ----------------------------------- ---- 13.2/14.8 MB 5.3 MB/s eta 0:00:01\n",
      "   ------------------------------------ --- 13.5/14.8 MB 5.3 MB/s eta 0:00:01\n",
      "   ------------------------------------- -- 13.7/14.8 MB 5.3 MB/s eta 0:00:01\n",
      "   ------------------------------------- -- 14.0/14.8 MB 5.3 MB/s eta 0:00:01\n",
      "   -------------------------------------- - 14.3/14.8 MB 5.4 MB/s eta 0:00:01\n",
      "   ---------------------------------------  14.5/14.8 MB 5.4 MB/s eta 0:00:01\n",
      "   ---------------------------------------- 14.8/14.8 MB 5.4 MB/s eta 0:00:00\n",
      "Downloading narwhals-1.36.0-py3-none-any.whl (331 kB)\n",
      "   ---------------------------------------- 0.0/331.0 kB ? eta -:--:--\n",
      "   ---------------------------------- ----- 286.7/331.0 kB 8.6 MB/s eta 0:00:01\n",
      "   ---------------------------------------- 331.0/331.0 kB 6.8 MB/s eta 0:00:00\n",
      "Installing collected packages: narwhals, graphviz, plotly, catboost\n",
      "Successfully installed catboost-1.2.8 graphviz-0.20.3 narwhals-1.36.0 plotly-6.0.1\n"
     ]
    }
   ],
   "source": [
    "!pip install catboost"
   ]
  },
  {
   "cell_type": "code",
   "execution_count": 2,
   "id": "b8457b7c",
   "metadata": {},
   "outputs": [],
   "source": [
    "from catboost import CatBoostClassifier, Pool"
   ]
  },
  {
   "cell_type": "code",
   "execution_count": 10,
   "id": "68477463",
   "metadata": {},
   "outputs": [
    {
     "name": "stdout",
     "output_type": "stream",
     "text": [
      "0:\tlearn: 0.5980682\ttotal: 338ms\tremaining: 33.4s\n",
      "10:\tlearn: 0.1787278\ttotal: 2.64s\tremaining: 21.3s\n",
      "20:\tlearn: 0.0631459\ttotal: 4.94s\tremaining: 18.6s\n",
      "30:\tlearn: 0.0238807\ttotal: 7.18s\tremaining: 16s\n",
      "40:\tlearn: 0.0098027\ttotal: 9.36s\tremaining: 13.5s\n",
      "50:\tlearn: 0.0047476\ttotal: 11.5s\tremaining: 11.1s\n",
      "60:\tlearn: 0.0028649\ttotal: 13.7s\tremaining: 8.77s\n",
      "70:\tlearn: 0.0021552\ttotal: 15.9s\tremaining: 6.49s\n",
      "80:\tlearn: 0.0018894\ttotal: 18.1s\tremaining: 4.23s\n",
      "90:\tlearn: 0.0017891\ttotal: 20.2s\tremaining: 2s\n",
      "99:\tlearn: 0.0017605\ttotal: 22.2s\tremaining: 0us\n"
     ]
    },
    {
     "data": {
      "text/plain": [
       "<catboost.core.CatBoostClassifier at 0x192779183b0>"
      ]
     },
     "execution_count": 10,
     "metadata": {},
     "output_type": "execute_result"
    }
   ],
   "source": [
    "from catboost import CatBoostClassifier, Pool\n",
    "\n",
    "# задаём имена колонок признаков и таргета\n",
    "features = ['als_score', 'user_genre_affinity', 'user_artist_ratio']\n",
    "target = 'target'\n",
    "\n",
    "# Create the Pool object\n",
    "train_data = Pool(\n",
    "    data=np.array(filtered_candidates[features]), \n",
    "    label=np.array(filtered_candidates[target])\n",
    ")\n",
    "\n",
    "# инициализируем модель CatBoostClassifier\n",
    "cb_model = CatBoostClassifier(\n",
    "    iterations=100,\n",
    "    learning_rate=0.1,\n",
    "    depth=6,\n",
    "    loss_function='Logloss',\n",
    "    verbose=10,\n",
    "    random_seed=0\n",
    ")\n",
    "\n",
    "# тренируем модель\n",
    "cb_model.fit(train_data) "
   ]
  },
  {
   "cell_type": "code",
   "execution_count": 11,
   "id": "6e109a9c",
   "metadata": {},
   "outputs": [],
   "source": [
    "cb_model.save_model('catboost_model.cbm')"
   ]
  },
  {
   "cell_type": "code",
   "execution_count": 3,
   "id": "c832c6be",
   "metadata": {},
   "outputs": [
    {
     "data": {
      "text/plain": [
       "<catboost.core.CatBoostClassifier at 0x1a9dbc132c0>"
      ]
     },
     "execution_count": 3,
     "metadata": {},
     "output_type": "execute_result"
    }
   ],
   "source": [
    "cb_model = CatBoostClassifier()\n",
    "cb_model.load_model('catboost_model.cbm')"
   ]
  },
  {
   "cell_type": "markdown",
   "id": "efc5654b",
   "metadata": {},
   "source": [
    "# Делаем предсказания\n"
   ]
  },
  {
   "cell_type": "code",
   "execution_count": 28,
   "id": "ec4d1ddf",
   "metadata": {},
   "outputs": [
    {
     "name": "stderr",
     "output_type": "stream",
     "text": [
      "C:\\Users\\Admin\\AppData\\Local\\Temp\\ipykernel_19548\\552681065.py:8: DeprecationWarning: Use of `how='outer'` should be replaced with `how='full'`.\n",
      "  .join(candidates,\n"
     ]
    },
    {
     "name": "stdout",
     "output_type": "stream",
     "text": [
      "shape: (50, 9)\n",
      "┌─────────┬──────────┬────────┬─────────────┬───┬───────────┬────────────┬────────────┬────────────┐\n",
      "│ user_id ┆ track_id ┆ target ┆ user_id_rig ┆ … ┆ als_score ┆ user_genre ┆ user_artis ┆ target_rig │\n",
      "│ ---     ┆ ---      ┆ ---    ┆ ht          ┆   ┆ ---       ┆ _affinity  ┆ t_ratio    ┆ ht         │\n",
      "│ i32     ┆ i32      ┆ i32    ┆ ---         ┆   ┆ f64       ┆ ---        ┆ ---        ┆ ---        │\n",
      "│         ┆          ┆        ┆ i64         ┆   ┆           ┆ f64        ┆ f64        ┆ i32        │\n",
      "╞═════════╪══════════╪════════╪═════════════╪═══╪═══════════╪════════════╪════════════╪════════════╡\n",
      "│ null    ┆ null     ┆ 0      ┆ 639131      ┆ … ┆ 0.01272   ┆ null       ┆ null       ┆ 0          │\n",
      "│ null    ┆ null     ┆ 0      ┆ 349693      ┆ … ┆ null      ┆ 0.005269   ┆ 0.005855   ┆ 0          │\n",
      "│ null    ┆ null     ┆ 0      ┆ 1289728     ┆ … ┆ 0.131252  ┆ null       ┆ null       ┆ 0          │\n",
      "│ null    ┆ null     ┆ 0      ┆ 554232      ┆ … ┆ null      ┆ 0.035578   ┆ 0.001271   ┆ 0          │\n",
      "│ null    ┆ null     ┆ 0      ┆ 208558      ┆ … ┆ null      ┆ 0.075188   ┆ 0.015038   ┆ 0          │\n",
      "│ …       ┆ …        ┆ …      ┆ …           ┆ … ┆ …         ┆ …          ┆ …          ┆ …          │\n",
      "│ null    ┆ null     ┆ 0      ┆ 581433      ┆ … ┆ 0.053381  ┆ null       ┆ null       ┆ 0          │\n",
      "│ null    ┆ null     ┆ 0      ┆ 643156      ┆ … ┆ null      ┆ 0.614035   ┆ 0.035088   ┆ 0          │\n",
      "│ null    ┆ null     ┆ 0      ┆ 55081       ┆ … ┆ null      ┆ 0.003367   ┆ 0.000421   ┆ 0          │\n",
      "│ null    ┆ null     ┆ 0      ┆ 380867      ┆ … ┆ 0.074978  ┆ null       ┆ null       ┆ 0          │\n",
      "│ null    ┆ null     ┆ 0      ┆ 542722      ┆ … ┆ null      ┆ 0.377358   ┆ 0.003774   ┆ 0          │\n",
      "└─────────┴──────────┴────────┴─────────────┴───┴───────────┴────────────┴────────────┴────────────┘\n"
     ]
    }
   ],
   "source": [
    "events_test_2 = pl.from_pandas(events_test_2)\n",
    "# Add the target column to events_labels with a value of 1\n",
    "events_test_2 = events_test_2.with_columns(pl.lit(1).alias(\"target\"))\n",
    "\n",
    "# Perform an outer join on user_id and track_id\n",
    "candidates2 = (\n",
    "    events_test_2.select([\"user_id\", \"track_id\", \"target\"])\n",
    "    .join(candidates, \n",
    "    on=[\"user_id\", \"track_id\"], \n",
    "    how=\"outer\")\n",
    ")\n",
    "\n",
    "# Fill null values in the target column with 0 and convert to integer\n",
    "candidates2 = candidates2.with_columns(\n",
    "    pl.col(\"target\").fill_null(0).cast(pl.Int32)\n",
    ")\n",
    "\n",
    "# Sample 50 rows from the candidates DataFrame\n",
    "print(candidates2.sample(50))"
   ]
  },
  {
   "cell_type": "code",
   "execution_count": 13,
   "id": "6db702fe",
   "metadata": {},
   "outputs": [],
   "source": [
    "# Заполняем пропуски в столбце 'user_id' соответствующими значениями из 'user_id_right'\n",
    "candidates2 = candidates2.with_columns(pl.col('user_id').fill_null(pl.col('user_id_right')).alias('user_id'))\n",
    "\n",
    "# Заполняем пропуски в столбце 'track_id' соответствующими значениями из 'track_id_right'\n",
    "candidates2 = candidates2.with_columns(pl.col('track_id').fill_null(pl.col('track_id_right')).alias('track_id'))\n",
    "\n",
    "candidates2 = candidates2.select(['user_id',\t'track_id',\t'als_score',\t'user_genre_affinity',\t'user_artist_ratio','target'])\n",
    "candidates2.write_parquet('data/candidates_to_rank.parquet')"
   ]
  },
  {
   "cell_type": "code",
   "execution_count": 4,
   "id": "27295689",
   "metadata": {},
   "outputs": [],
   "source": [
    "candidates2 = pl.read_parquet('data/candidates_to_rank.parquet')"
   ]
  },
  {
   "cell_type": "code",
   "execution_count": 5,
   "id": "066540f7",
   "metadata": {},
   "outputs": [
    {
     "data": {
      "text/html": [
       "<div><style>\n",
       ".dataframe > thead > tr,\n",
       ".dataframe > tbody > tr {\n",
       "  text-align: right;\n",
       "  white-space: pre-wrap;\n",
       "}\n",
       "</style>\n",
       "<small>shape: (297_346_658, 7)</small><table border=\"1\" class=\"dataframe\"><thead><tr><th>user_id</th><th>track_id</th><th>als_score</th><th>user_genre_affinity</th><th>user_artist_ratio</th><th>target</th><th>cb_score</th></tr><tr><td>i64</td><td>i64</td><td>f64</td><td>f64</td><td>f64</td><td>i32</td><td>f64</td></tr></thead><tbody><tr><td>0</td><td>99262</td><td>null</td><td>0.076923</td><td>0.038462</td><td>0</td><td>0.000027</td></tr><tr><td>0</td><td>589498</td><td>null</td><td>0.192308</td><td>0.153846</td><td>0</td><td>0.000028</td></tr><tr><td>0</td><td>590262</td><td>null</td><td>0.192308</td><td>0.153846</td><td>0</td><td>0.000028</td></tr><tr><td>0</td><td>590303</td><td>null</td><td>0.192308</td><td>0.153846</td><td>0</td><td>0.000028</td></tr><tr><td>0</td><td>590692</td><td>null</td><td>0.192308</td><td>0.153846</td><td>0</td><td>0.000028</td></tr><tr><td>&hellip;</td><td>&hellip;</td><td>&hellip;</td><td>&hellip;</td><td>&hellip;</td><td>&hellip;</td><td>&hellip;</td></tr><tr><td>527</td><td>18862</td><td>null</td><td>null</td><td>null</td><td>1</td><td>0.999954</td></tr><tr><td>525255</td><td>85652278</td><td>null</td><td>null</td><td>null</td><td>1</td><td>0.999954</td></tr><tr><td>32303</td><td>37079539</td><td>null</td><td>null</td><td>null</td><td>1</td><td>0.999954</td></tr><tr><td>912669</td><td>234695</td><td>null</td><td>null</td><td>null</td><td>1</td><td>0.999954</td></tr><tr><td>1076862</td><td>90219148</td><td>null</td><td>null</td><td>null</td><td>1</td><td>0.999954</td></tr></tbody></table></div>"
      ],
      "text/plain": [
       "shape: (297_346_658, 7)\n",
       "┌─────────┬──────────┬───────────┬─────────────────────┬───────────────────┬────────┬──────────┐\n",
       "│ user_id ┆ track_id ┆ als_score ┆ user_genre_affinity ┆ user_artist_ratio ┆ target ┆ cb_score │\n",
       "│ ---     ┆ ---      ┆ ---       ┆ ---                 ┆ ---               ┆ ---    ┆ ---      │\n",
       "│ i64     ┆ i64      ┆ f64       ┆ f64                 ┆ f64               ┆ i32    ┆ f64      │\n",
       "╞═════════╪══════════╪═══════════╪═════════════════════╪═══════════════════╪════════╪══════════╡\n",
       "│ 0       ┆ 99262    ┆ null      ┆ 0.076923            ┆ 0.038462          ┆ 0      ┆ 0.000027 │\n",
       "│ 0       ┆ 589498   ┆ null      ┆ 0.192308            ┆ 0.153846          ┆ 0      ┆ 0.000028 │\n",
       "│ 0       ┆ 590262   ┆ null      ┆ 0.192308            ┆ 0.153846          ┆ 0      ┆ 0.000028 │\n",
       "│ 0       ┆ 590303   ┆ null      ┆ 0.192308            ┆ 0.153846          ┆ 0      ┆ 0.000028 │\n",
       "│ 0       ┆ 590692   ┆ null      ┆ 0.192308            ┆ 0.153846          ┆ 0      ┆ 0.000028 │\n",
       "│ …       ┆ …        ┆ …         ┆ …                   ┆ …                 ┆ …      ┆ …        │\n",
       "│ 527     ┆ 18862    ┆ null      ┆ null                ┆ null              ┆ 1      ┆ 0.999954 │\n",
       "│ 525255  ┆ 85652278 ┆ null      ┆ null                ┆ null              ┆ 1      ┆ 0.999954 │\n",
       "│ 32303   ┆ 37079539 ┆ null      ┆ null                ┆ null              ┆ 1      ┆ 0.999954 │\n",
       "│ 912669  ┆ 234695   ┆ null      ┆ null                ┆ null              ┆ 1      ┆ 0.999954 │\n",
       "│ 1076862 ┆ 90219148 ┆ null      ┆ null                ┆ null              ┆ 1      ┆ 0.999954 │\n",
       "└─────────┴──────────┴───────────┴─────────────────────┴───────────────────┴────────┴──────────┘"
      ]
     },
     "execution_count": 5,
     "metadata": {},
     "output_type": "execute_result"
    }
   ],
   "source": [
    "features = ['als_score', 'user_genre_affinity', 'user_artist_ratio']\n",
    "target = 'target'\n",
    "inference_data = Pool(data=np.array(candidates2[features]))\n",
    "predictions = cb_model.predict_proba(inference_data)\n",
    "\n",
    "candidates2 = candidates2.with_columns(pl.Series(predictions[:, 1]).alias('cb_score'))\n",
    "candidates2"
   ]
  },
  {
   "cell_type": "code",
   "execution_count": 6,
   "id": "5494575e",
   "metadata": {},
   "outputs": [
    {
     "data": {
      "text/html": [
       "<div><style>\n",
       ".dataframe > thead > tr,\n",
       ".dataframe > tbody > tr {\n",
       "  text-align: right;\n",
       "  white-space: pre-wrap;\n",
       "}\n",
       "</style>\n",
       "<small>shape: (297_346_658, 7)</small><table border=\"1\" class=\"dataframe\"><thead><tr><th>user_id</th><th>track_id</th><th>als_score</th><th>user_genre_affinity</th><th>user_artist_ratio</th><th>target</th><th>cb_score</th></tr><tr><td>i64</td><td>i64</td><td>f64</td><td>f64</td><td>f64</td><td>i32</td><td>f64</td></tr></thead><tbody><tr><td>0</td><td>589498</td><td>null</td><td>0.192308</td><td>0.153846</td><td>0</td><td>0.000028</td></tr><tr><td>0</td><td>590262</td><td>null</td><td>0.192308</td><td>0.153846</td><td>0</td><td>0.000028</td></tr><tr><td>0</td><td>590303</td><td>null</td><td>0.192308</td><td>0.153846</td><td>0</td><td>0.000028</td></tr><tr><td>0</td><td>590692</td><td>null</td><td>0.192308</td><td>0.153846</td><td>0</td><td>0.000028</td></tr><tr><td>0</td><td>10327926</td><td>null</td><td>0.038462</td><td>0.115385</td><td>0</td><td>0.000027</td></tr><tr><td>&hellip;</td><td>&hellip;</td><td>&hellip;</td><td>&hellip;</td><td>&hellip;</td><td>&hellip;</td><td>&hellip;</td></tr><tr><td>1374582</td><td>54559796</td><td>null</td><td>0.285024</td><td>0.028986</td><td>0</td><td>0.000027</td></tr><tr><td>1374582</td><td>54559802</td><td>null</td><td>0.285024</td><td>0.028986</td><td>0</td><td>0.000027</td></tr><tr><td>1374582</td><td>72875547</td><td>null</td><td>0.285024</td><td>0.028986</td><td>0</td><td>0.000027</td></tr><tr><td>1374582</td><td>69887239</td><td>null</td><td>0.285024</td><td>0.028986</td><td>0</td><td>0.000027</td></tr><tr><td>1374582</td><td>76267532</td><td>null</td><td>0.285024</td><td>0.028986</td><td>0</td><td>0.000027</td></tr></tbody></table></div>"
      ],
      "text/plain": [
       "shape: (297_346_658, 7)\n",
       "┌─────────┬──────────┬───────────┬─────────────────────┬───────────────────┬────────┬──────────┐\n",
       "│ user_id ┆ track_id ┆ als_score ┆ user_genre_affinity ┆ user_artist_ratio ┆ target ┆ cb_score │\n",
       "│ ---     ┆ ---      ┆ ---       ┆ ---                 ┆ ---               ┆ ---    ┆ ---      │\n",
       "│ i64     ┆ i64      ┆ f64       ┆ f64                 ┆ f64               ┆ i32    ┆ f64      │\n",
       "╞═════════╪══════════╪═══════════╪═════════════════════╪═══════════════════╪════════╪══════════╡\n",
       "│ 0       ┆ 589498   ┆ null      ┆ 0.192308            ┆ 0.153846          ┆ 0      ┆ 0.000028 │\n",
       "│ 0       ┆ 590262   ┆ null      ┆ 0.192308            ┆ 0.153846          ┆ 0      ┆ 0.000028 │\n",
       "│ 0       ┆ 590303   ┆ null      ┆ 0.192308            ┆ 0.153846          ┆ 0      ┆ 0.000028 │\n",
       "│ 0       ┆ 590692   ┆ null      ┆ 0.192308            ┆ 0.153846          ┆ 0      ┆ 0.000028 │\n",
       "│ 0       ┆ 10327926 ┆ null      ┆ 0.038462            ┆ 0.115385          ┆ 0      ┆ 0.000027 │\n",
       "│ …       ┆ …        ┆ …         ┆ …                   ┆ …                 ┆ …      ┆ …        │\n",
       "│ 1374582 ┆ 54559796 ┆ null      ┆ 0.285024            ┆ 0.028986          ┆ 0      ┆ 0.000027 │\n",
       "│ 1374582 ┆ 54559802 ┆ null      ┆ 0.285024            ┆ 0.028986          ┆ 0      ┆ 0.000027 │\n",
       "│ 1374582 ┆ 72875547 ┆ null      ┆ 0.285024            ┆ 0.028986          ┆ 0      ┆ 0.000027 │\n",
       "│ 1374582 ┆ 69887239 ┆ null      ┆ 0.285024            ┆ 0.028986          ┆ 0      ┆ 0.000027 │\n",
       "│ 1374582 ┆ 76267532 ┆ null      ┆ 0.285024            ┆ 0.028986          ┆ 0      ┆ 0.000027 │\n",
       "└─────────┴──────────┴───────────┴─────────────────────┴───────────────────┴────────┴──────────┘"
      ]
     },
     "execution_count": 6,
     "metadata": {},
     "output_type": "execute_result"
    }
   ],
   "source": [
    "del predictions, inference_data\n",
    "# для каждого пользователя проставляем rank, начиная с 1 — это максимальный cb_score\n",
    "candidates_to_rank = candidates2.sort(by=[\"user_id\", \"cb_score\"], descending=[False, True])\n",
    "del candidates2\n",
    "candidates_to_rank"
   ]
  },
  {
   "cell_type": "code",
   "execution_count": 7,
   "id": "03f36786",
   "metadata": {},
   "outputs": [
    {
     "data": {
      "text/html": [
       "<div><style>\n",
       ".dataframe > thead > tr,\n",
       ".dataframe > tbody > tr {\n",
       "  text-align: right;\n",
       "  white-space: pre-wrap;\n",
       "}\n",
       "</style>\n",
       "<small>shape: (297_346_658, 8)</small><table border=\"1\" class=\"dataframe\"><thead><tr><th>user_id</th><th>track_id</th><th>als_score</th><th>user_genre_affinity</th><th>user_artist_ratio</th><th>target</th><th>cb_score</th><th>rank</th></tr><tr><td>i64</td><td>i64</td><td>f64</td><td>f64</td><td>f64</td><td>i32</td><td>f64</td><td>u32</td></tr></thead><tbody><tr><td>0</td><td>589498</td><td>null</td><td>0.192308</td><td>0.153846</td><td>0</td><td>0.000028</td><td>1</td></tr><tr><td>0</td><td>590262</td><td>null</td><td>0.192308</td><td>0.153846</td><td>0</td><td>0.000028</td><td>1</td></tr><tr><td>0</td><td>590303</td><td>null</td><td>0.192308</td><td>0.153846</td><td>0</td><td>0.000028</td><td>1</td></tr><tr><td>0</td><td>590692</td><td>null</td><td>0.192308</td><td>0.153846</td><td>0</td><td>0.000028</td><td>1</td></tr><tr><td>0</td><td>10327926</td><td>null</td><td>0.038462</td><td>0.115385</td><td>0</td><td>0.000027</td><td>2</td></tr><tr><td>&hellip;</td><td>&hellip;</td><td>&hellip;</td><td>&hellip;</td><td>&hellip;</td><td>&hellip;</td><td>&hellip;</td><td>&hellip;</td></tr><tr><td>1374582</td><td>54559796</td><td>null</td><td>0.285024</td><td>0.028986</td><td>0</td><td>0.000027</td><td>36</td></tr><tr><td>1374582</td><td>54559802</td><td>null</td><td>0.285024</td><td>0.028986</td><td>0</td><td>0.000027</td><td>36</td></tr><tr><td>1374582</td><td>72875547</td><td>null</td><td>0.285024</td><td>0.028986</td><td>0</td><td>0.000027</td><td>36</td></tr><tr><td>1374582</td><td>69887239</td><td>null</td><td>0.285024</td><td>0.028986</td><td>0</td><td>0.000027</td><td>36</td></tr><tr><td>1374582</td><td>76267532</td><td>null</td><td>0.285024</td><td>0.028986</td><td>0</td><td>0.000027</td><td>36</td></tr></tbody></table></div>"
      ],
      "text/plain": [
       "shape: (297_346_658, 8)\n",
       "┌─────────┬──────────┬───────────┬───────────────────┬──────────────────┬────────┬──────────┬──────┐\n",
       "│ user_id ┆ track_id ┆ als_score ┆ user_genre_affini ┆ user_artist_rati ┆ target ┆ cb_score ┆ rank │\n",
       "│ ---     ┆ ---      ┆ ---       ┆ ty                ┆ o                ┆ ---    ┆ ---      ┆ ---  │\n",
       "│ i64     ┆ i64      ┆ f64       ┆ ---               ┆ ---              ┆ i32    ┆ f64      ┆ u32  │\n",
       "│         ┆          ┆           ┆ f64               ┆ f64              ┆        ┆          ┆      │\n",
       "╞═════════╪══════════╪═══════════╪═══════════════════╪══════════════════╪════════╪══════════╪══════╡\n",
       "│ 0       ┆ 589498   ┆ null      ┆ 0.192308          ┆ 0.153846         ┆ 0      ┆ 0.000028 ┆ 1    │\n",
       "│ 0       ┆ 590262   ┆ null      ┆ 0.192308          ┆ 0.153846         ┆ 0      ┆ 0.000028 ┆ 1    │\n",
       "│ 0       ┆ 590303   ┆ null      ┆ 0.192308          ┆ 0.153846         ┆ 0      ┆ 0.000028 ┆ 1    │\n",
       "│ 0       ┆ 590692   ┆ null      ┆ 0.192308          ┆ 0.153846         ┆ 0      ┆ 0.000028 ┆ 1    │\n",
       "│ 0       ┆ 10327926 ┆ null      ┆ 0.038462          ┆ 0.115385         ┆ 0      ┆ 0.000027 ┆ 2    │\n",
       "│ …       ┆ …        ┆ …         ┆ …                 ┆ …                ┆ …      ┆ …        ┆ …    │\n",
       "│ 1374582 ┆ 54559796 ┆ null      ┆ 0.285024          ┆ 0.028986         ┆ 0      ┆ 0.000027 ┆ 36   │\n",
       "│ 1374582 ┆ 54559802 ┆ null      ┆ 0.285024          ┆ 0.028986         ┆ 0      ┆ 0.000027 ┆ 36   │\n",
       "│ 1374582 ┆ 72875547 ┆ null      ┆ 0.285024          ┆ 0.028986         ┆ 0      ┆ 0.000027 ┆ 36   │\n",
       "│ 1374582 ┆ 69887239 ┆ null      ┆ 0.285024          ┆ 0.028986         ┆ 0      ┆ 0.000027 ┆ 36   │\n",
       "│ 1374582 ┆ 76267532 ┆ null      ┆ 0.285024          ┆ 0.028986         ┆ 0      ┆ 0.000027 ┆ 36   │\n",
       "└─────────┴──────────┴───────────┴───────────────────┴──────────────────┴────────┴──────────┴──────┘"
      ]
     },
     "execution_count": 7,
     "metadata": {},
     "output_type": "execute_result"
    }
   ],
   "source": [
    "# Rank the cb_score within each group of user_id\n",
    "candidates_to_rank = candidates_to_rank.with_columns(\n",
    "    pl.col('cb_score').rank(method='dense', descending=True).over('user_id').alias('rank')\n",
    ")\n",
    "\n",
    "candidates_to_rank"
   ]
  },
  {
   "cell_type": "code",
   "execution_count": 10,
   "id": "309c78fc",
   "metadata": {},
   "outputs": [],
   "source": [
    "# Add a row number within each group of user_id, sorted by rank in descending order\n",
    "candidates_to_rank = candidates_to_rank.with_columns(\n",
    "    pl.col('rank').rank(method='ordinal', descending=True).over('user_id').alias('row_num')\n",
    ")\n",
    "\n",
    "# Filter to keep only the top 100 rows per user_id\n",
    "candidates_to_rank = candidates_to_rank.filter(pl.col('row_num') <= 100)"
   ]
  },
  {
   "cell_type": "code",
   "execution_count": 12,
   "id": "14a30b0c",
   "metadata": {},
   "outputs": [
    {
     "data": {
      "text/html": [
       "<div><style>\n",
       ".dataframe > thead > tr,\n",
       ".dataframe > tbody > tr {\n",
       "  text-align: right;\n",
       "  white-space: pre-wrap;\n",
       "}\n",
       "</style>\n",
       "<small>shape: (110_647_670, 9)</small><table border=\"1\" class=\"dataframe\"><thead><tr><th>user_id</th><th>track_id</th><th>als_score</th><th>user_genre_affinity</th><th>user_artist_ratio</th><th>target</th><th>cb_score</th><th>rank</th><th>row_num</th></tr><tr><td>i64</td><td>i64</td><td>f64</td><td>f64</td><td>f64</td><td>i32</td><td>f64</td><td>u32</td><td>u32</td></tr></thead><tbody><tr><td>0</td><td>17802673</td><td>null</td><td>0.115385</td><td>0.038462</td><td>0</td><td>0.000027</td><td>12</td><td>1</td></tr><tr><td>0</td><td>17802674</td><td>null</td><td>0.115385</td><td>0.038462</td><td>0</td><td>0.000027</td><td>12</td><td>2</td></tr><tr><td>0</td><td>99262</td><td>null</td><td>0.076923</td><td>0.038462</td><td>0</td><td>0.000027</td><td>11</td><td>3</td></tr><tr><td>0</td><td>14370719</td><td>null</td><td>0.038462</td><td>0.038462</td><td>0</td><td>0.000027</td><td>10</td><td>4</td></tr><tr><td>0</td><td>18042047</td><td>null</td><td>0.038462</td><td>0.038462</td><td>0</td><td>0.000027</td><td>10</td><td>5</td></tr><tr><td>&hellip;</td><td>&hellip;</td><td>&hellip;</td><td>&hellip;</td><td>&hellip;</td><td>&hellip;</td><td>&hellip;</td><td>&hellip;</td><td>&hellip;</td></tr><tr><td>1374582</td><td>72725485</td><td>null</td><td>0.125604</td><td>0.004831</td><td>0</td><td>0.000038</td><td>23</td><td>96</td></tr><tr><td>1374582</td><td>62405492</td><td>null</td><td>0.125604</td><td>0.004831</td><td>0</td><td>0.000038</td><td>23</td><td>97</td></tr><tr><td>1374582</td><td>48592372</td><td>null</td><td>0.125604</td><td>0.004831</td><td>0</td><td>0.000038</td><td>23</td><td>98</td></tr><tr><td>1374582</td><td>42890427</td><td>null</td><td>0.125604</td><td>0.004831</td><td>0</td><td>0.000038</td><td>23</td><td>99</td></tr><tr><td>1374582</td><td>70936256</td><td>null</td><td>0.125604</td><td>0.004831</td><td>0</td><td>0.000038</td><td>23</td><td>100</td></tr></tbody></table></div>"
      ],
      "text/plain": [
       "shape: (110_647_670, 9)\n",
       "┌─────────┬──────────┬───────────┬─────────────────────┬───┬────────┬──────────┬──────┬─────────┐\n",
       "│ user_id ┆ track_id ┆ als_score ┆ user_genre_affinity ┆ … ┆ target ┆ cb_score ┆ rank ┆ row_num │\n",
       "│ ---     ┆ ---      ┆ ---       ┆ ---                 ┆   ┆ ---    ┆ ---      ┆ ---  ┆ ---     │\n",
       "│ i64     ┆ i64      ┆ f64       ┆ f64                 ┆   ┆ i32    ┆ f64      ┆ u32  ┆ u32     │\n",
       "╞═════════╪══════════╪═══════════╪═════════════════════╪═══╪════════╪══════════╪══════╪═════════╡\n",
       "│ 0       ┆ 17802673 ┆ null      ┆ 0.115385            ┆ … ┆ 0      ┆ 0.000027 ┆ 12   ┆ 1       │\n",
       "│ 0       ┆ 17802674 ┆ null      ┆ 0.115385            ┆ … ┆ 0      ┆ 0.000027 ┆ 12   ┆ 2       │\n",
       "│ 0       ┆ 99262    ┆ null      ┆ 0.076923            ┆ … ┆ 0      ┆ 0.000027 ┆ 11   ┆ 3       │\n",
       "│ 0       ┆ 14370719 ┆ null      ┆ 0.038462            ┆ … ┆ 0      ┆ 0.000027 ┆ 10   ┆ 4       │\n",
       "│ 0       ┆ 18042047 ┆ null      ┆ 0.038462            ┆ … ┆ 0      ┆ 0.000027 ┆ 10   ┆ 5       │\n",
       "│ …       ┆ …        ┆ …         ┆ …                   ┆ … ┆ …      ┆ …        ┆ …    ┆ …       │\n",
       "│ 1374582 ┆ 72725485 ┆ null      ┆ 0.125604            ┆ … ┆ 0      ┆ 0.000038 ┆ 23   ┆ 96      │\n",
       "│ 1374582 ┆ 62405492 ┆ null      ┆ 0.125604            ┆ … ┆ 0      ┆ 0.000038 ┆ 23   ┆ 97      │\n",
       "│ 1374582 ┆ 48592372 ┆ null      ┆ 0.125604            ┆ … ┆ 0      ┆ 0.000038 ┆ 23   ┆ 98      │\n",
       "│ 1374582 ┆ 42890427 ┆ null      ┆ 0.125604            ┆ … ┆ 0      ┆ 0.000038 ┆ 23   ┆ 99      │\n",
       "│ 1374582 ┆ 70936256 ┆ null      ┆ 0.125604            ┆ … ┆ 0      ┆ 0.000038 ┆ 23   ┆ 100     │\n",
       "└─────────┴──────────┴───────────┴─────────────────────┴───┴────────┴──────────┴──────┴─────────┘"
      ]
     },
     "execution_count": 12,
     "metadata": {},
     "output_type": "execute_result"
    }
   ],
   "source": [
    "candidates_to_rank.sort(by=[\"user_id\", \"row_num\"], descending=[False, False])"
   ]
  },
  {
   "cell_type": "code",
   "execution_count": 14,
   "id": "7a513ea4",
   "metadata": {},
   "outputs": [],
   "source": [
    "candidates_to_rank.write_parquet('data/cb_predictions.parquet')"
   ]
  },
  {
   "cell_type": "code",
   "execution_count": 8,
   "id": "3506f527",
   "metadata": {},
   "outputs": [],
   "source": [
    "candidates_to_rank = pl.read_parquet('data/cb_predictions.parquet')"
   ]
  },
  {
   "cell_type": "code",
   "execution_count": 46,
   "id": "bc063555",
   "metadata": {},
   "outputs": [],
   "source": [
    "import polars as pl\n",
    "from collections import defaultdict\n",
    "import numpy as np\n",
    "from tqdm import tqdm  # <-- Добавляем импорт\n",
    "\n",
    "def evaluate_recommendations(recommendations_df: pl.DataFrame, validation_df: pl.DataFrame, k: int):\n",
    "    \"\"\"Оценивает качество рекомендаций с прогресс-барами.\"\"\"\n",
    "    # Инициализация переменных для метрик\n",
    "    total_relevant = 0\n",
    "    total_recommended = 0\n",
    "    total_relevant_and_recommended = 0\n",
    "    all_items = set()\n",
    "    recommended_items = set()\n",
    "    item_popularity = defaultdict(int)\n",
    "\n",
    "    # Прогресс-бар для подсчёта популярности\n",
    "    print(\"[1/4] Подсчёт популярности треков:\")\n",
    "    for track_id in tqdm(validation_df['track_id'], desc=\"Обработка треков\"):\n",
    "        item_popularity[track_id] += 1\n",
    "\n",
    "    # Группировка с сортировкой по score\n",
    "    print(\"\\n[2/4] Группировка данных:\")\n",
    "    with tqdm(total=3, desc=\"Подготовка данных\") as pbar:\n",
    "        recommendations_grouped_df = recommendations_df.sort('score', descending=True).group_by('user_id').agg([\n",
    "            pl.col('track_id').head(k).alias('track_id_list')\n",
    "        ])\n",
    "        pbar.update(1)\n",
    "        \n",
    "        validation_grouped_df = validation_df.group_by('user_id').agg([\n",
    "            pl.col('track_id').implode().alias('track_id_list')\n",
    "        ])\n",
    "        pbar.update(1)\n",
    "        \n",
    "        recommendations_grouped = recommendations_grouped_df.to_dict(as_series=False)\n",
    "        validation_grouped = validation_grouped_df.to_dict(as_series=False)\n",
    "        validation_user_ids = set(validation_grouped['user_id'])\n",
    "        pbar.update(1)\n",
    "\n",
    "    # Обработка пользователей с прогресс-баром\n",
    "    print(\"\\n[3/4] Оценка рекомендаций:\")\n",
    "    user_ids = recommendations_grouped['user_id']\n",
    "    total_users = len(user_ids)\n",
    "    \n",
    "    for idx, (user_id, recommended_tracks) in tqdm(\n",
    "        enumerate(zip(user_ids, recommendations_grouped['track_id_list'])),\n",
    "        total=total_users,\n",
    "        desc=\"Обработка пользователей\"\n",
    "    ):\n",
    "        if user_id not in validation_user_ids:\n",
    "            continue\n",
    "            \n",
    "        real_tracks = validation_grouped['track_id_list'][validation_grouped['user_id'].index(user_id)]\n",
    "        real_tracks_set = set(real_tracks)\n",
    "        \n",
    "        relevant_count = len(real_tracks_set)\n",
    "        recommended_count = len(recommended_tracks)\n",
    "        relevant_and_recommended = len(real_tracks_set & set(recommended_tracks))\n",
    "        \n",
    "        total_relevant += relevant_count\n",
    "        total_recommended += recommended_count\n",
    "        total_relevant_and_recommended += relevant_and_recommended\n",
    "        \n",
    "        for track_id in recommended_tracks:\n",
    "            recommended_items.add(track_id)\n",
    "            all_items.add(track_id)\n",
    "            item_popularity[track_id] += 0\n",
    "\n",
    "    # Расчёт novelty с прогресс-баром\n",
    "    print(\"\\n[4/4] Расчёт Novelty:\")\n",
    "    novelty_scores = []\n",
    "    user_ids = recommendations_grouped['user_id']\n",
    "    \n",
    "    for user_id, recommended_tracks in tqdm(\n",
    "        zip(user_ids, recommendations_grouped['track_id_list']),\n",
    "        total=len(user_ids),\n",
    "        desc=\"Обработка Novelty\"\n",
    "    ):\n",
    "        if user_id not in validation_user_ids:\n",
    "            continue\n",
    "            \n",
    "        for track_id in recommended_tracks:\n",
    "            popularity = item_popularity.get(track_id, 1)\n",
    "            try:\n",
    "                novelty_scores.append(1.0 / popularity)\n",
    "            except ZeroDivisionError:\n",
    "                novelty_scores.append(0)\n",
    "\n",
    "    # Вычисление финальных метрик\n",
    "    metrics = {\n",
    "        'recall': total_relevant_and_recommended / total_relevant if total_relevant > 0 else 0,\n",
    "        'precision': total_relevant_and_recommended / total_recommended if total_recommended > 0 else 0,\n",
    "        'coverage': len(recommended_items) / len(all_items) if len(all_items) > 0 else 0,\n",
    "        'novelty': np.mean(novelty_scores) if novelty_scores else 0\n",
    "    }\n",
    "    \n",
    "    print(\"\\n✅ Оценка завершена\")\n",
    "    return metrics\n"
   ]
  },
  {
   "cell_type": "code",
   "execution_count": 47,
   "id": "c67b5df4",
   "metadata": {},
   "outputs": [
    {
     "name": "stdout",
     "output_type": "stream",
     "text": [
      "[1/4] Подсчёт популярности треков:\n"
     ]
    },
    {
     "name": "stderr",
     "output_type": "stream",
     "text": [
      "Обработка треков: 100%|██████████| 7522628/7522628 [00:02<00:00, 3451229.82it/s]\n"
     ]
    },
    {
     "name": "stdout",
     "output_type": "stream",
     "text": [
      "\n",
      "[2/4] Группировка данных:\n"
     ]
    },
    {
     "name": "stderr",
     "output_type": "stream",
     "text": [
      "Подготовка данных: 100%|██████████| 3/3 [00:06<00:00,  2.02s/it]\n"
     ]
    },
    {
     "name": "stdout",
     "output_type": "stream",
     "text": [
      "\n",
      "[3/4] Оценка рекомендаций:\n"
     ]
    },
    {
     "name": "stderr",
     "output_type": "stream",
     "text": [
      "Обработка пользователей: 100%|██████████| 1373221/1373221 [30:36<00:00, 747.56it/s]\n"
     ]
    },
    {
     "name": "stdout",
     "output_type": "stream",
     "text": [
      "\n",
      "[4/4] Расчёт Novelty:\n"
     ]
    },
    {
     "name": "stderr",
     "output_type": "stream",
     "text": [
      "Обработка Novelty: 100%|██████████| 1373221/1373221 [00:01<00:00, 1305329.49it/s]\n"
     ]
    },
    {
     "name": "stdout",
     "output_type": "stream",
     "text": [
      "\n",
      "✅ Оценка завершена\n",
      "{'recall': 0.01802308980319112, 'precision': 0.042548871371109846, 'coverage': 1.0, 'novelty': np.float64(0.04572598680934325)}\n"
     ]
    }
   ],
   "source": [
    "k = 5  # Оцениваем топ-5 рекомендации\n",
    "recommendations = candidates_to_rank.select(['user_id', 'track_id','cb_score']).rename({\n",
    "    'cb_score': 'score'\n",
    "})\n",
    "\n",
    "validation = pl.from_pandas(events_test_2[['user_id', 'track_id']])\n",
    "# Вычисление метрик\n",
    "metrics = evaluate_recommendations(recommendations, validation, k)\n",
    "print(metrics)"
   ]
  },
  {
   "cell_type": "code",
   "execution_count": null,
   "id": "96a24752",
   "metadata": {},
   "outputs": [
    {
     "data": {
      "text/html": [
       "<div><style>\n",
       ".dataframe > thead > tr,\n",
       ".dataframe > tbody > tr {\n",
       "  text-align: right;\n",
       "  white-space: pre-wrap;\n",
       "}\n",
       "</style>\n",
       "<small>shape: (7_835_250, 2)</small><table border=\"1\" class=\"dataframe\"><thead><tr><th>user_id</th><th>recommended_track_id</th></tr><tr><td>i64</td><td>i64</td></tr></thead><tbody><tr><td>3</td><td>68348389</td></tr><tr><td>3</td><td>72055319</td></tr><tr><td>3</td><td>48591706</td></tr><tr><td>3</td><td>37077421</td></tr><tr><td>3</td><td>31190258</td></tr><tr><td>&hellip;</td><td>&hellip;</td></tr><tr><td>1374582</td><td>25301457</td></tr><tr><td>1374582</td><td>59930542</td></tr><tr><td>1374582</td><td>76957294</td></tr><tr><td>1374582</td><td>35631321</td></tr><tr><td>1374582</td><td>56312027</td></tr></tbody></table></div>"
      ],
      "text/plain": [
       "shape: (7_835_250, 2)\n",
       "┌─────────┬──────────────────────┐\n",
       "│ user_id ┆ recommended_track_id │\n",
       "│ ---     ┆ ---                  │\n",
       "│ i64     ┆ i64                  │\n",
       "╞═════════╪══════════════════════╡\n",
       "│ 3       ┆ 68348389             │\n",
       "│ 3       ┆ 72055319             │\n",
       "│ 3       ┆ 48591706             │\n",
       "│ 3       ┆ 37077421             │\n",
       "│ 3       ┆ 31190258             │\n",
       "│ …       ┆ …                    │\n",
       "│ 1374582 ┆ 25301457             │\n",
       "│ 1374582 ┆ 59930542             │\n",
       "│ 1374582 ┆ 76957294             │\n",
       "│ 1374582 ┆ 35631321             │\n",
       "│ 1374582 ┆ 56312027             │\n",
       "└─────────┴──────────────────────┘"
      ]
     },
     "execution_count": 48,
     "metadata": {},
     "output_type": "execute_result"
    }
   ],
   "source": [
    "pops = pl.read_parquet('data/top_popular.parquet')\n"
   ]
  },
  {
   "cell_type": "code",
   "execution_count": 49,
   "id": "c53b9a0d",
   "metadata": {},
   "outputs": [
    {
     "data": {
      "text/html": [
       "<div><style>\n",
       ".dataframe > thead > tr,\n",
       ".dataframe > tbody > tr {\n",
       "  text-align: right;\n",
       "  white-space: pre-wrap;\n",
       "}\n",
       "</style>\n",
       "<small>shape: (7_835_250, 3)</small><table border=\"1\" class=\"dataframe\"><thead><tr><th>user_id</th><th>recommended_track_id</th><th>score</th></tr><tr><td>i64</td><td>i64</td><td>i32</td></tr></thead><tbody><tr><td>3</td><td>68348389</td><td>1</td></tr><tr><td>3</td><td>72055319</td><td>1</td></tr><tr><td>3</td><td>48591706</td><td>1</td></tr><tr><td>3</td><td>37077421</td><td>1</td></tr><tr><td>3</td><td>31190258</td><td>1</td></tr><tr><td>&hellip;</td><td>&hellip;</td><td>&hellip;</td></tr><tr><td>1374582</td><td>25301457</td><td>1</td></tr><tr><td>1374582</td><td>59930542</td><td>1</td></tr><tr><td>1374582</td><td>76957294</td><td>1</td></tr><tr><td>1374582</td><td>35631321</td><td>1</td></tr><tr><td>1374582</td><td>56312027</td><td>1</td></tr></tbody></table></div>"
      ],
      "text/plain": [
       "shape: (7_835_250, 3)\n",
       "┌─────────┬──────────────────────┬───────┐\n",
       "│ user_id ┆ recommended_track_id ┆ score │\n",
       "│ ---     ┆ ---                  ┆ ---   │\n",
       "│ i64     ┆ i64                  ┆ i32   │\n",
       "╞═════════╪══════════════════════╪═══════╡\n",
       "│ 3       ┆ 68348389             ┆ 1     │\n",
       "│ 3       ┆ 72055319             ┆ 1     │\n",
       "│ 3       ┆ 48591706             ┆ 1     │\n",
       "│ 3       ┆ 37077421             ┆ 1     │\n",
       "│ 3       ┆ 31190258             ┆ 1     │\n",
       "│ …       ┆ …                    ┆ …     │\n",
       "│ 1374582 ┆ 25301457             ┆ 1     │\n",
       "│ 1374582 ┆ 59930542             ┆ 1     │\n",
       "│ 1374582 ┆ 76957294             ┆ 1     │\n",
       "│ 1374582 ┆ 35631321             ┆ 1     │\n",
       "│ 1374582 ┆ 56312027             ┆ 1     │\n",
       "└─────────┴──────────────────────┴───────┘"
      ]
     },
     "execution_count": 49,
     "metadata": {},
     "output_type": "execute_result"
    }
   ],
   "source": [
    "pops = pops.with_columns(pl.lit(1).alias(\"score\"))\n",
    "pops"
   ]
  },
  {
   "cell_type": "code",
   "execution_count": 51,
   "id": "8456d86a",
   "metadata": {},
   "outputs": [
    {
     "name": "stdout",
     "output_type": "stream",
     "text": [
      "[1/4] Подсчёт популярности треков:\n"
     ]
    },
    {
     "name": "stderr",
     "output_type": "stream",
     "text": [
      "Обработка треков: 100%|██████████| 7522628/7522628 [00:02<00:00, 3419797.67it/s]\n"
     ]
    },
    {
     "name": "stdout",
     "output_type": "stream",
     "text": [
      "\n",
      "[2/4] Группировка данных:\n"
     ]
    },
    {
     "name": "stderr",
     "output_type": "stream",
     "text": [
      "Подготовка данных: 100%|██████████| 3/3 [00:00<00:00,  3.55it/s]\n"
     ]
    },
    {
     "name": "stdout",
     "output_type": "stream",
     "text": [
      "\n",
      "[3/4] Оценка рекомендаций:\n"
     ]
    },
    {
     "name": "stderr",
     "output_type": "stream",
     "text": [
      "Обработка пользователей: 100%|██████████| 783525/783525 [28:17<00:00, 461.63it/s] \n"
     ]
    },
    {
     "name": "stdout",
     "output_type": "stream",
     "text": [
      "\n",
      "[4/4] Расчёт Novelty:\n"
     ]
    },
    {
     "name": "stderr",
     "output_type": "stream",
     "text": [
      "Обработка Novelty: 100%|██████████| 783525/783525 [00:00<00:00, 1164230.06it/s]\n"
     ]
    },
    {
     "name": "stdout",
     "output_type": "stream",
     "text": [
      "\n",
      "✅ Оценка завершена\n",
      "{'recall': 0.0017804947951699857, 'precision': 0.004202955624834278, 'coverage': 1.0, 'novelty': np.float64(0.005233152182120533)}\n"
     ]
    }
   ],
   "source": [
    "pops =pops.select(['user_id', 'recommended_track_id','score']).rename({\n",
    "    'recommended_track_id': 'track_id'\n",
    "})\n",
    "metrics = evaluate_recommendations(pops, validation, k)\n",
    "print(metrics)"
   ]
  },
  {
   "cell_type": "code",
   "execution_count": 55,
   "id": "8bf813ea",
   "metadata": {},
   "outputs": [
    {
     "name": "stderr",
     "output_type": "stream",
     "text": [
      "<>:62: SyntaxWarning: invalid escape sequence '\\i'\n",
      "<>:63: SyntaxWarning: invalid escape sequence '\\e'\n",
      "<>:62: SyntaxWarning: invalid escape sequence '\\i'\n",
      "<>:63: SyntaxWarning: invalid escape sequence '\\e'\n",
      "C:\\Users\\Admin\\AppData\\Local\\Temp\\ipykernel_1308\\1825838838.py:62: SyntaxWarning: invalid escape sequence '\\i'\n",
      "  'data\\items.parquet',\n",
      "C:\\Users\\Admin\\AppData\\Local\\Temp\\ipykernel_1308\\1825838838.py:63: SyntaxWarning: invalid escape sequence '\\e'\n",
      "  'data\\events.parquet',\n"
     ]
    },
    {
     "name": "stdout",
     "output_type": "stream",
     "text": [
      "Файл data\\items.parquet успешно загружен в s3://s3-student-mle-20250130-833968fcc1/recsys/data/items.parquet\n",
      "Файл data\\events.parquet успешно загружен в s3://s3-student-mle-20250130-833968fcc1/recsys/data/events.parquet\n"
     ]
    }
   ],
   "source": [
    "import boto3\n",
    "import os\n",
    "\n",
    "class Config:\n",
    "    _config_loaded = False\n",
    "\n",
    "    @classmethod\n",
    "    def load_config(cls, filename='config.txt'):\n",
    "        \"\"\"Загружает конфигурацию из файла\"\"\"\n",
    "        if not os.path.exists(filename):\n",
    "            raise FileNotFoundError(f\"Config file {filename} not found\")\n",
    "\n",
    "        with open(filename, 'r') as f:\n",
    "            for line in f:\n",
    "                line = line.strip()\n",
    "                if line and not line.startswith('#'):\n",
    "                    key, value = line.split('=', 1)\n",
    "                    setattr(cls, key.strip(), value.strip())\n",
    "        \n",
    "        cls._config_loaded = True\n",
    "\n",
    "    @classmethod\n",
    "    def get(cls, key):\n",
    "        if not cls._config_loaded:\n",
    "            cls.load_config()\n",
    "        return getattr(cls, key, None)\n",
    "\n",
    "def get_session():\n",
    "    # Загружаем конфиг при первом вызове\n",
    "    if not Config._config_loaded:\n",
    "        Config.load_config()\n",
    "    \n",
    "    return boto3.session.Session().client(\n",
    "        service_name=Config.get('S3_SERVICE_NAME'),\n",
    "        endpoint_url=Config.get('S3_ENDPOINT_URL'),\n",
    "        aws_access_key_id=Config.get('AWS_ACCESS_KEY_ID'),\n",
    "        aws_secret_access_key=Config.get('AWS_SECRET_ACCESS_KEY')\n",
    "    )\n",
    "\n",
    "def upload_files_to_s3(file_paths: list, s3_bucket: str, s3_prefix: str = 'recsys/data/'):\n",
    "    \"\"\"Загружает файлы в S3-бакет по указанному пути\"\"\"\n",
    "    s3 = get_session()\n",
    "    \n",
    "    for local_path in file_paths:\n",
    "        if not os.path.exists(local_path):\n",
    "            raise FileNotFoundError(f\"Файл {local_path} не найден\")\n",
    "            \n",
    "        s3_key = os.path.join(s3_prefix, os.path.basename(local_path))\n",
    "        \n",
    "        with open(local_path, 'rb') as f:\n",
    "            s3.upload_fileobj(\n",
    "                Fileobj=f,\n",
    "                Bucket=s3_bucket,\n",
    "                Key=s3_key\n",
    "            )\n",
    "        print(f\"Файл {local_path} успешно загружен в s3://{s3_bucket}/{s3_key}\")\n",
    "\n",
    "\n",
    "bucket_name = 's3-student-mle-20250130-833968fcc1'\n",
    "\n",
    "files_to_upload = [\n",
    "        'data\\items.parquet',\n",
    "        'data\\events.parquet',\n",
    "    ]\n",
    "\n",
    "# Загрузка файлов\n",
    "upload_files_to_s3(\n",
    "        file_paths=files_to_upload,\n",
    "        s3_bucket=bucket_name\n",
    "    )\n"
   ]
  }
 ],
 "metadata": {
  "kernelspec": {
   "display_name": "base",
   "language": "python",
   "name": "python3"
  },
  "language_info": {
   "codemirror_mode": {
    "name": "ipython",
    "version": 3
   },
   "file_extension": ".py",
   "mimetype": "text/x-python",
   "name": "python",
   "nbconvert_exporter": "python",
   "pygments_lexer": "ipython3",
   "version": "3.12.2"
  }
 },
 "nbformat": 4,
 "nbformat_minor": 5
}
