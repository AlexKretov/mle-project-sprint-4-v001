{
 "cells": [
  {
   "cell_type": "markdown",
   "id": "f4095ae4-7294-4b28-853e-88d235002c97",
   "metadata": {},
   "source": [
    "# Инициализация"
   ]
  },
  {
   "cell_type": "markdown",
   "id": "2f2318d2-9df8-4911-915e-15b725c44f8a",
   "metadata": {},
   "source": [
    "Загружаем библиотеки необходимые для выполнения кода ноутбука."
   ]
  },
  {
   "cell_type": "code",
   "execution_count": 2,
   "id": "662d04e7-1b0b-4e4a-9ddf-4526d7fef119",
   "metadata": {},
   "outputs": [],
   "source": [
    "import logging\n",
    "from statistics import mode\n",
    "import threading\n",
    "import matplotlib.pyplot as plt\n",
    "import numpy as np\n",
    "import fireducks.pandas as pd\n",
    "import os\n",
    "import boto3"
   ]
  },
  {
   "cell_type": "code",
   "execution_count": 2,
   "id": "fcef9477",
   "metadata": {},
   "outputs": [],
   "source": [
    "%matplotlib inline\n",
    "%config InlineBackend.figure_format = 'png'\n",
    "%config InlineBackend.figure_format = 'retina'"
   ]
  },
  {
   "cell_type": "markdown",
   "id": "bf80fbc5-b660-4fac-8fbb-a5cae77313b3",
   "metadata": {},
   "source": [
    "# === ЭТАП 1 ==="
   ]
  },
  {
   "cell_type": "markdown",
   "id": "5263a8b3-fe99-4204-8a2e-105182792c11",
   "metadata": {},
   "source": [
    "# Загрузка первичных данных"
   ]
  },
  {
   "cell_type": "markdown",
   "id": "1b54a6a5-1656-4e3c-99d1-49dc39451d33",
   "metadata": {},
   "source": [
    "Загружаем первичные данные из файлов:\n",
    "- tracks.parquet\n",
    "- catalog_names.parquet\n",
    "- interactions.parquet"
   ]
  },
  {
   "cell_type": "code",
   "execution_count": 3,
   "id": "5d4b8961-3f35-4e58-9d6b-3e2dbd2c4224",
   "metadata": {},
   "outputs": [],
   "source": [
    "tracks = pd.read_parquet(\"data/tracks.parquet\")\n",
    "catalog_names = pd.read_parquet(\"data/catalog_names.parquet\")\n",
    "clickstream = pd.read_parquet(\"data/interactions.parquet\")"
   ]
  },
  {
   "cell_type": "code",
   "execution_count": 4,
   "id": "f9a3c68d",
   "metadata": {},
   "outputs": [],
   "source": [
    "\n",
    "def rename_list(lst, dic):\n",
    "    \"\"\"\n",
    "    Replace a list of ids with the values from a dictionary\n",
    "    \"\"\"\n",
    "    for i, element in enumerate(lst):\n",
    "        if element in dic.keys():\n",
    "            lst[i] = dic[element][0]\n",
    "        else:\n",
    "            lst[i] = np.nan\n",
    "    return lst"
   ]
  },
  {
   "cell_type": "code",
   "execution_count": 5,
   "id": "ec108c6b",
   "metadata": {},
   "outputs": [
    {
     "name": "stdout",
     "output_type": "stream",
     "text": [
      "Starting renaming: albums\n",
      "Finished renaming: albums\n",
      "Starting renaming: artists\n",
      "Finished renaming: artists\n",
      "Starting renaming: genres\n",
      "Finished renaming: genres\n"
     ]
    },
    {
     "data": {
      "text/html": [
       "<div>\n",
       "<style scoped>\n",
       "    .dataframe tbody tr th:only-of-type {\n",
       "        vertical-align: middle;\n",
       "    }\n",
       "\n",
       "    .dataframe tbody tr th {\n",
       "        vertical-align: top;\n",
       "    }\n",
       "\n",
       "    .dataframe thead th {\n",
       "        text-align: right;\n",
       "    }\n",
       "</style>\n",
       "<table border=\"1\" class=\"dataframe\">\n",
       "  <thead>\n",
       "    <tr style=\"text-align: right;\">\n",
       "      <th></th>\n",
       "      <th>track_id</th>\n",
       "      <th>albums</th>\n",
       "      <th>artists</th>\n",
       "      <th>genres</th>\n",
       "      <th>track_name</th>\n",
       "    </tr>\n",
       "  </thead>\n",
       "  <tbody>\n",
       "    <tr>\n",
       "      <th>0</th>\n",
       "      <td>26</td>\n",
       "      <td>[Taller Children, Taller Children]</td>\n",
       "      <td>[Elizabeth &amp; the Catapult]</td>\n",
       "      <td>[pop, folk]</td>\n",
       "      <td>[Complimentary Me]</td>\n",
       "    </tr>\n",
       "    <tr>\n",
       "      <th>1</th>\n",
       "      <td>38</td>\n",
       "      <td>[Taller Children, Taller Children]</td>\n",
       "      <td>[Elizabeth &amp; the Catapult]</td>\n",
       "      <td>[pop, folk]</td>\n",
       "      <td>[Momma's Boy]</td>\n",
       "    </tr>\n",
       "    <tr>\n",
       "      <th>2</th>\n",
       "      <td>135</td>\n",
       "      <td>[Wild Young Hearts, Wild Young Hearts, Wild Yo...</td>\n",
       "      <td>[Noisettes]</td>\n",
       "      <td>[pop]</td>\n",
       "      <td>[Atticus]</td>\n",
       "    </tr>\n",
       "    <tr>\n",
       "      <th>3</th>\n",
       "      <td>136</td>\n",
       "      <td>[Wild Young Hearts, Wild Young Hearts, Wild Yo...</td>\n",
       "      <td>[Noisettes]</td>\n",
       "      <td>[pop]</td>\n",
       "      <td>[24 Hours]</td>\n",
       "    </tr>\n",
       "    <tr>\n",
       "      <th>4</th>\n",
       "      <td>138</td>\n",
       "      <td>[Wild Young Hearts, Wild Young Hearts, Don't U...</td>\n",
       "      <td>[Noisettes]</td>\n",
       "      <td>[pop]</td>\n",
       "      <td>[Don't Upset The Rhythm (Go Baby Go)]</td>\n",
       "    </tr>\n",
       "    <tr>\n",
       "      <th>...</th>\n",
       "      <td>...</td>\n",
       "      <td>...</td>\n",
       "      <td>...</td>\n",
       "      <td>...</td>\n",
       "      <td>...</td>\n",
       "    </tr>\n",
       "    <tr>\n",
       "      <th>999995</th>\n",
       "      <td>101478482</td>\n",
       "      <td>[На лицо]</td>\n",
       "      <td>[FLESH]</td>\n",
       "      <td>[rusrap, rap]</td>\n",
       "      <td>[На лицо]</td>\n",
       "    </tr>\n",
       "    <tr>\n",
       "      <th>999996</th>\n",
       "      <td>101490148</td>\n",
       "      <td>[Без капли мысли]</td>\n",
       "      <td>[Даня Милохин]</td>\n",
       "      <td>[pop, ruspop]</td>\n",
       "      <td>[Без капли мысли]</td>\n",
       "    </tr>\n",
       "    <tr>\n",
       "      <th>999997</th>\n",
       "      <td>101493057</td>\n",
       "      <td>[SKITTLES]</td>\n",
       "      <td>[WhyBaby?]</td>\n",
       "      <td>[foreignrap, rap]</td>\n",
       "      <td>[SKITTLES]</td>\n",
       "    </tr>\n",
       "    <tr>\n",
       "      <th>999998</th>\n",
       "      <td>101495927</td>\n",
       "      <td>[Москва]</td>\n",
       "      <td>[Yanix]</td>\n",
       "      <td>[rusrap, rap]</td>\n",
       "      <td>[Москва]</td>\n",
       "    </tr>\n",
       "    <tr>\n",
       "      <th>999999</th>\n",
       "      <td>101521819</td>\n",
       "      <td>[Вокзал]</td>\n",
       "      <td>[Джарахов]</td>\n",
       "      <td>[rusrap, rap]</td>\n",
       "      <td>[Вокзал]</td>\n",
       "    </tr>\n",
       "  </tbody>\n",
       "</table>\n",
       "<p>1000000 rows x 5 columns</p>\n",
       "</div>"
      ]
     },
     "metadata": {},
     "output_type": "display_data"
    }
   ],
   "source": [
    "tracks_to_catalog_dict ={'albums':'album', 'artists':'artist','genres':'genre','track_id':'track'}\n",
    "for col in ['albums', 'artists', 'genres']:\n",
    "    print('Starting renaming: {}'.format(col))\n",
    "    cat_col = tracks_to_catalog_dict[col]\n",
    "    renamer = dict(zip(catalog_names[catalog_names['type']==cat_col]['id'], zip(catalog_names[catalog_names['type']==cat_col]['name'])))\n",
    "    tracks[col]=tracks[col].apply(lambda x: rename_list(list(x), renamer))\n",
    "    print('Finished renaming: {}'.format(col))\n",
    "renamer = dict(zip(catalog_names[catalog_names['type']=='track']['id'], zip(catalog_names[catalog_names['type']=='track']['name'])))\n",
    "tracks['track_name']=tracks['track_id'].map(renamer)\n",
    "tracks"
   ]
  },
  {
   "cell_type": "code",
   "execution_count": 6,
   "id": "888a6ef8",
   "metadata": {},
   "outputs": [],
   "source": [
    "items = tracks.copy()\n",
    "del tracks"
   ]
  },
  {
   "cell_type": "markdown",
   "id": "e8f2a1f7-a05f-4f39-af90-5f4018aa6f9d",
   "metadata": {},
   "source": [
    "# Обзор данных"
   ]
  },
  {
   "cell_type": "markdown",
   "id": "46a85307-896c-4fac-9fcf-f0dffa90889e",
   "metadata": {},
   "source": [
    "Проверяем данные, есть ли с ними явные проблемы."
   ]
  },
  {
   "cell_type": "code",
   "execution_count": 7,
   "id": "c9f8f17e-9b56-4f5a-a463-f694a993effb",
   "metadata": {},
   "outputs": [
    {
     "name": "stdout",
     "output_type": "stream",
     "text": [
      "<class 'fireducks.pandas.frame.DataFrame'>\n",
      "Index: 222629898 entries, 0 to 291\n",
      "Data columns (total 4 columns):\n",
      " #   Column      Dtype         \n",
      "---  ------      -----         \n",
      " 0   user_id     int32         \n",
      " 1   track_id    int32         \n",
      " 2   track_seq   int16         \n",
      " 3   started_at  datetime64[ns]\n",
      "dtypes: datetime64[ns](1), int16(1), int32(2)\n",
      "memory usage: 5.5 GB\n"
     ]
    }
   ],
   "source": [
    "clickstream.info()"
   ]
  },
  {
   "cell_type": "code",
   "execution_count": 8,
   "id": "efd2e2eb-3bec-4ce1-87ac-232bab8bc0d0",
   "metadata": {},
   "outputs": [
    {
     "name": "stdout",
     "output_type": "stream",
     "text": [
      "<class 'fireducks.pandas.frame.DataFrame'>\n",
      "RangeIndex: 1000000 entries, 0 to 999999\n",
      "Data columns (total 5 columns):\n",
      " #   Column      Non-Null Count    Dtype \n",
      "---  ------      --------------    ----- \n",
      " 0   track_id    1000000 non-null  int64 \n",
      " 1   albums      1000000 non-null  object\n",
      " 2   artists     1000000 non-null  object\n",
      " 3   genres      1000000 non-null  object\n",
      " 4   track_name  1000000 non-null  object\n",
      "dtypes: int64(1), object(4)\n",
      "memory usage: 38.3+ MB\n"
     ]
    }
   ],
   "source": [
    "items.info()"
   ]
  },
  {
   "cell_type": "markdown",
   "id": "0e797a0c",
   "metadata": {},
   "source": [
    "Пример данных по треку"
   ]
  },
  {
   "cell_type": "code",
   "execution_count": 9,
   "id": "13ab3498",
   "metadata": {},
   "outputs": [
    {
     "data": {
      "text/html": [
       "<div>\n",
       "<style scoped>\n",
       "    .dataframe tbody tr th:only-of-type {\n",
       "        vertical-align: middle;\n",
       "    }\n",
       "\n",
       "    .dataframe tbody tr th {\n",
       "        vertical-align: top;\n",
       "    }\n",
       "\n",
       "    .dataframe thead th {\n",
       "        text-align: right;\n",
       "    }\n",
       "</style>\n",
       "<table border=\"1\" class=\"dataframe\">\n",
       "  <thead>\n",
       "    <tr style=\"text-align: right;\">\n",
       "      <th></th>\n",
       "      <th>track_id</th>\n",
       "      <th>albums</th>\n",
       "      <th>artists</th>\n",
       "      <th>genres</th>\n",
       "      <th>track_name</th>\n",
       "    </tr>\n",
       "  </thead>\n",
       "  <tbody>\n",
       "    <tr>\n",
       "      <th>197752</th>\n",
       "      <td>6814031</td>\n",
       "      <td>[Breakfast At Pappa's, Breakfast at Pappa's]</td>\n",
       "      <td>[Consumed]</td>\n",
       "      <td>[rock, allrock]</td>\n",
       "      <td>[Heavy Metal Winner]</td>\n",
       "    </tr>\n",
       "    <tr>\n",
       "      <th>990243</th>\n",
       "      <td>96225911</td>\n",
       "      <td>[Электроакустика, Часть 1]</td>\n",
       "      <td>[ДМЦ]</td>\n",
       "      <td>[rusrock, allrock]</td>\n",
       "      <td>[Сирень]</td>\n",
       "    </tr>\n",
       "    <tr>\n",
       "      <th>462156</th>\n",
       "      <td>32208409</td>\n",
       "      <td>[Камикадзе, Камикадзе]</td>\n",
       "      <td>[#####]</td>\n",
       "      <td>[metal, None]</td>\n",
       "      <td>[Пусто]</td>\n",
       "    </tr>\n",
       "    <tr>\n",
       "      <th>955983</th>\n",
       "      <td>86796485</td>\n",
       "      <td>[Forever Sailing]</td>\n",
       "      <td>[Honshu Lo fi, Tonion, zmeyev]</td>\n",
       "      <td>[foreignrap, rap]</td>\n",
       "      <td>[Forever Sailing]</td>\n",
       "    </tr>\n",
       "    <tr>\n",
       "      <th>227334</th>\n",
       "      <td>10798373</td>\n",
       "      <td>[Feel Pop, Sport Hits for Kids, Morninng Has B...</td>\n",
       "      <td>[Knightsbridge]</td>\n",
       "      <td>[pop]</td>\n",
       "      <td>[If I Fell]</td>\n",
       "    </tr>\n",
       "  </tbody>\n",
       "</table>\n",
       "</div>"
      ]
     },
     "metadata": {},
     "output_type": "display_data"
    }
   ],
   "source": [
    "items.sample(5)"
   ]
  },
  {
   "cell_type": "markdown",
   "id": "bd6dbe7b",
   "metadata": {},
   "source": [
    "Пример данных по действиям в приложении"
   ]
  },
  {
   "cell_type": "code",
   "execution_count": 10,
   "id": "5601dbff",
   "metadata": {},
   "outputs": [
    {
     "data": {
      "text/html": [
       "<div>\n",
       "<style scoped>\n",
       "    .dataframe tbody tr th:only-of-type {\n",
       "        vertical-align: middle;\n",
       "    }\n",
       "\n",
       "    .dataframe tbody tr th {\n",
       "        vertical-align: top;\n",
       "    }\n",
       "\n",
       "    .dataframe thead th {\n",
       "        text-align: right;\n",
       "    }\n",
       "</style>\n",
       "<table border=\"1\" class=\"dataframe\">\n",
       "  <thead>\n",
       "    <tr style=\"text-align: right;\">\n",
       "      <th></th>\n",
       "      <th>user_id</th>\n",
       "      <th>track_id</th>\n",
       "      <th>track_seq</th>\n",
       "      <th>started_at</th>\n",
       "    </tr>\n",
       "  </thead>\n",
       "  <tbody>\n",
       "    <tr>\n",
       "      <th>120</th>\n",
       "      <td>440524</td>\n",
       "      <td>25922318</td>\n",
       "      <td>121</td>\n",
       "      <td>2022-06-28</td>\n",
       "    </tr>\n",
       "    <tr>\n",
       "      <th>41</th>\n",
       "      <td>895626</td>\n",
       "      <td>17856052</td>\n",
       "      <td>42</td>\n",
       "      <td>2022-12-24</td>\n",
       "    </tr>\n",
       "    <tr>\n",
       "      <th>348</th>\n",
       "      <td>1155789</td>\n",
       "      <td>62654832</td>\n",
       "      <td>349</td>\n",
       "      <td>2022-08-17</td>\n",
       "    </tr>\n",
       "    <tr>\n",
       "      <th>196</th>\n",
       "      <td>497496</td>\n",
       "      <td>59169438</td>\n",
       "      <td>197</td>\n",
       "      <td>2022-12-06</td>\n",
       "    </tr>\n",
       "    <tr>\n",
       "      <th>196</th>\n",
       "      <td>512773</td>\n",
       "      <td>50685860</td>\n",
       "      <td>197</td>\n",
       "      <td>2022-12-04</td>\n",
       "    </tr>\n",
       "  </tbody>\n",
       "</table>\n",
       "</div>"
      ]
     },
     "metadata": {},
     "output_type": "display_data"
    }
   ],
   "source": [
    "clickstream.sample(5)"
   ]
  },
  {
   "cell_type": "code",
   "execution_count": 11,
   "id": "594c0352",
   "metadata": {},
   "outputs": [
    {
     "data": {
      "text/plain": [
       "track_id      0\n",
       "albums        0\n",
       "artists       0\n",
       "genres        0\n",
       "track_name    0\n",
       "dtype: int64"
      ]
     },
     "execution_count": 11,
     "metadata": {},
     "output_type": "execute_result"
    }
   ],
   "source": [
    "items.isna().sum()"
   ]
  },
  {
   "cell_type": "code",
   "execution_count": 12,
   "id": "bdc8a1b8",
   "metadata": {},
   "outputs": [
    {
     "data": {
      "text/plain": [
       "0"
      ]
     },
     "execution_count": 12,
     "metadata": {},
     "output_type": "execute_result"
    }
   ],
   "source": [
    "np.isnan(items['artists'].any()).sum()"
   ]
  },
  {
   "cell_type": "code",
   "execution_count": 13,
   "id": "debc14c5",
   "metadata": {},
   "outputs": [
    {
     "name": "stdout",
     "output_type": "stream",
     "text": [
      "albums 0\n",
      "artists 0\n",
      "genres 48345\n",
      "track_name 0\n"
     ]
    }
   ],
   "source": [
    "# Подсчитываем количество строк, в которых в списках содержится np.nan\n",
    "for col in ['albums', 'artists', 'genres','track_name']:\n",
    "    print(col, items[col].apply(lambda x: None in x).sum())"
   ]
  },
  {
   "cell_type": "code",
   "execution_count": 14,
   "id": "9c00d7e9",
   "metadata": {},
   "outputs": [
    {
     "data": {
      "text/html": [
       "<div>\n",
       "<style scoped>\n",
       "    .dataframe tbody tr th:only-of-type {\n",
       "        vertical-align: middle;\n",
       "    }\n",
       "\n",
       "    .dataframe tbody tr th {\n",
       "        vertical-align: top;\n",
       "    }\n",
       "\n",
       "    .dataframe thead th {\n",
       "        text-align: right;\n",
       "    }\n",
       "</style>\n",
       "<table border=\"1\" class=\"dataframe\">\n",
       "  <thead>\n",
       "    <tr style=\"text-align: right;\">\n",
       "      <th></th>\n",
       "      <th>track_id</th>\n",
       "      <th>albums</th>\n",
       "      <th>artists</th>\n",
       "      <th>genres</th>\n",
       "      <th>track_name</th>\n",
       "    </tr>\n",
       "  </thead>\n",
       "  <tbody>\n",
       "    <tr>\n",
       "      <th>36</th>\n",
       "      <td>436</td>\n",
       "      <td>[A Secret Place]</td>\n",
       "      <td>[Grover Washington, Jr.]</td>\n",
       "      <td>[jazz, None]</td>\n",
       "      <td>[A Secret Place]</td>\n",
       "    </tr>\n",
       "    <tr>\n",
       "      <th>59</th>\n",
       "      <td>594</td>\n",
       "      <td>[Sides Of Blue, Vol. 2, Jazz Six Pack, Everybo...</td>\n",
       "      <td>[Bill Evans]</td>\n",
       "      <td>[jazz, None]</td>\n",
       "      <td>[Peace Piece]</td>\n",
       "    </tr>\n",
       "    <tr>\n",
       "      <th>125</th>\n",
       "      <td>1025</td>\n",
       "      <td>[Jazz Six Pack, Art Pepper Meets The Rhythm Se...</td>\n",
       "      <td>[Art Pepper]</td>\n",
       "      <td>[jazz, None]</td>\n",
       "      <td>[You'd Be So Nice To Come Home To]</td>\n",
       "    </tr>\n",
       "    <tr>\n",
       "      <th>126</th>\n",
       "      <td>1026</td>\n",
       "      <td>[Jazz Six Pack, The Art Of The Ballad, Winter ...</td>\n",
       "      <td>[Art Pepper]</td>\n",
       "      <td>[jazz, None]</td>\n",
       "      <td>[Winter Moon]</td>\n",
       "    </tr>\n",
       "    <tr>\n",
       "      <th>128</th>\n",
       "      <td>1028</td>\n",
       "      <td>[Jazz Six Pack, Smack Up, On Contemporary: Art...</td>\n",
       "      <td>[Art Pepper Quintet]</td>\n",
       "      <td>[jazz, None]</td>\n",
       "      <td>[Smack Up]</td>\n",
       "    </tr>\n",
       "    <tr>\n",
       "      <th>...</th>\n",
       "      <td>...</td>\n",
       "      <td>...</td>\n",
       "      <td>...</td>\n",
       "      <td>...</td>\n",
       "      <td>...</td>\n",
       "    </tr>\n",
       "    <tr>\n",
       "      <th>999770</th>\n",
       "      <td>101009893</td>\n",
       "      <td>[Доработано Напильником]</td>\n",
       "      <td>[Metalolom, Доктор Дью]</td>\n",
       "      <td>[metal, None]</td>\n",
       "      <td>[Глаза]</td>\n",
       "    </tr>\n",
       "    <tr>\n",
       "      <th>999798</th>\n",
       "      <td>101049628</td>\n",
       "      <td>[Demons Are a Girl's Best Friend (Powerwolf Co...</td>\n",
       "      <td>[Radio Tapok]</td>\n",
       "      <td>[metal, None]</td>\n",
       "      <td>[Demons Are a Girl's Best Friend (Powerwolf Co...</td>\n",
       "    </tr>\n",
       "    <tr>\n",
       "      <th>999863</th>\n",
       "      <td>101200283</td>\n",
       "      <td>[The Grey]</td>\n",
       "      <td>[Bad Omens]</td>\n",
       "      <td>[metal, None]</td>\n",
       "      <td>[The Grey]</td>\n",
       "    </tr>\n",
       "    <tr>\n",
       "      <th>999907</th>\n",
       "      <td>101256806</td>\n",
       "      <td>[Soviet March (Cover)]</td>\n",
       "      <td>[Radio Tapok]</td>\n",
       "      <td>[metal, None]</td>\n",
       "      <td>[Soviet March (Cover)]</td>\n",
       "    </tr>\n",
       "    <tr>\n",
       "      <th>999940</th>\n",
       "      <td>101308952</td>\n",
       "      <td>[Make Believe]</td>\n",
       "      <td>[Memphis May Fire]</td>\n",
       "      <td>[metal, None]</td>\n",
       "      <td>[Make Believe]</td>\n",
       "    </tr>\n",
       "  </tbody>\n",
       "</table>\n",
       "<p>48345 rows x 5 columns</p>\n",
       "</div>"
      ]
     },
     "metadata": {},
     "output_type": "display_data"
    }
   ],
   "source": [
    "items[items['genres'].apply(lambda x: None in x)]"
   ]
  },
  {
   "cell_type": "code",
   "execution_count": 15,
   "id": "84bf1e84",
   "metadata": {},
   "outputs": [
    {
     "name": "stdout",
     "output_type": "stream",
     "text": [
      "0\n"
     ]
    }
   ],
   "source": [
    "list1 = clickstream['track_id'].unique().tolist()\n",
    "list2 = items['track_id'].unique().tolist()\n",
    "array1 = np.array(list1)\n",
    "array2 = np.array(list2)\n",
    "\n",
    "count = np.sum(np.isin(array1, array2, invert=True))\n",
    "\n",
    "print(count)"
   ]
  },
  {
   "cell_type": "markdown",
   "id": "318b573a-9e2d-4808-95db-60cfb8bbdb73",
   "metadata": {
    "editable": true,
    "slideshow": {
     "slide_type": ""
    },
    "tags": []
   },
   "source": [
    "# Выводы"
   ]
  },
  {
   "cell_type": "markdown",
   "id": "caa96e12-36a8-4401-8f11-98627a49ae9d",
   "metadata": {},
   "source": [
    "Приведём выводы по первому знакомству с данными:\n",
    "- данных много, и явных проблем с ними не наблюдается\n",
    "- был собран набор данных items, в которую из каталога перетащили информацию по трекам, это было сделано во-первых,   \n",
    "для лучшего восприятия человеком, во-вторых, векторизация текстовых данных даст нам более полезные признаки, чем   \n",
    "простое порядковое кодирование;  \n",
    "- несколько смущает то, что в каждой ячейке items получился список, но пока это не создаёт проблем, посмотрим на этапе преобработки,  \n",
    "может быть и поменяем типы;\n",
    "- пропусков в данных практически нет, обнаружено что некоторые треки (менее 5%) отнесены к жанру None, но такк как это жанр не единственный, то  \n",
    "сильно это картину не испортит;\n",
    "- самое приятное, что в истории пользователей нет треков, которых не было бы в каталоге"
   ]
  },
  {
   "cell_type": "markdown",
   "id": "7bc3296b-eba6-4333-a78d-b9304aa87e3d",
   "metadata": {},
   "source": [
    "# === ЭТАП 2 ==="
   ]
  },
  {
   "cell_type": "markdown",
   "id": "68e73960-fd38-4e15-8db0-9a25c35dfd25",
   "metadata": {},
   "source": [
    "# EDA"
   ]
  },
  {
   "cell_type": "markdown",
   "id": "a30e823e-8e0f-4a76-a02e-8d1ba8bf0f8a",
   "metadata": {},
   "source": [
    "Распределение количества прослушанных треков."
   ]
  },
  {
   "cell_type": "code",
   "execution_count": 16,
   "id": "9bf5eaba-35f7-4da7-be59-9ab4a34b2423",
   "metadata": {},
   "outputs": [
    {
     "name": "stdout",
     "output_type": "stream",
     "text": [
      "Всего прослушано уникальных терков:  1000000\n"
     ]
    }
   ],
   "source": [
    "print(\"Всего прослушано уникальных терков: \", clickstream[\"track_id\"].nunique())"
   ]
  },
  {
   "cell_type": "markdown",
   "id": "d765519a-18dd-4d30-9e29-cc2d84cacd79",
   "metadata": {},
   "source": [
    "Наиболее популярные треки"
   ]
  },
  {
   "cell_type": "code",
   "execution_count": 17,
   "id": "aecaf630-fde0-4860-b84a-42c933a9606e",
   "metadata": {},
   "outputs": [
    {
     "data": {
      "text/html": [
       "<div>\n",
       "<style scoped>\n",
       "    .dataframe tbody tr th:only-of-type {\n",
       "        vertical-align: middle;\n",
       "    }\n",
       "\n",
       "    .dataframe tbody tr th {\n",
       "        vertical-align: top;\n",
       "    }\n",
       "\n",
       "    .dataframe thead th {\n",
       "        text-align: right;\n",
       "    }\n",
       "</style>\n",
       "<table border=\"1\" class=\"dataframe\">\n",
       "  <thead>\n",
       "    <tr style=\"text-align: right;\">\n",
       "      <th></th>\n",
       "      <th>track_id</th>\n",
       "      <th>albums</th>\n",
       "      <th>artists</th>\n",
       "      <th>genres</th>\n",
       "      <th>track_name</th>\n",
       "    </tr>\n",
       "  </thead>\n",
       "  <tbody>\n",
       "    <tr>\n",
       "      <th>9098</th>\n",
       "      <td>53404</td>\n",
       "      <td>[Nevermind, Nirvana, Nevermind, Nevermind, Nev...</td>\n",
       "      <td>[Nirvana]</td>\n",
       "      <td>[alternative, rock, allrock]</td>\n",
       "      <td>[Smells Like Teen Spirit]</td>\n",
       "    </tr>\n",
       "    <tr>\n",
       "      <th>26665</th>\n",
       "      <td>178529</td>\n",
       "      <td>[Meteora, Meteora, Meteora, Meteora, 00s Rock ...</td>\n",
       "      <td>[Linkin Park]</td>\n",
       "      <td>[numetal, metal]</td>\n",
       "      <td>[Numb]</td>\n",
       "    </tr>\n",
       "    <tr>\n",
       "      <th>90461</th>\n",
       "      <td>795836</td>\n",
       "      <td>[Ten Summoner's Tales, 25 Years, The Best Of 2...</td>\n",
       "      <td>[Sting]</td>\n",
       "      <td>[pop, rock, allrock]</td>\n",
       "      <td>[Shape Of My Heart]</td>\n",
       "    </tr>\n",
       "    <tr>\n",
       "      <th>368072</th>\n",
       "      <td>24692821</td>\n",
       "      <td>[Way down We Go, Summer Music 2016, A/B, DFM D...</td>\n",
       "      <td>[KALEO]</td>\n",
       "      <td>[indie]</td>\n",
       "      <td>[Way Down We Go]</td>\n",
       "    </tr>\n",
       "    <tr>\n",
       "      <th>475289</th>\n",
       "      <td>32947997</td>\n",
       "      <td>[Shape of You, ÷, ÷, Summer Vibes, Pop]</td>\n",
       "      <td>[Ed Sheeran]</td>\n",
       "      <td>[pop]</td>\n",
       "      <td>[Shape of You]</td>\n",
       "    </tr>\n",
       "    <tr>\n",
       "      <th>483876</th>\n",
       "      <td>33311009</td>\n",
       "      <td>[Shape Of Pop, NOW That's What I Call Music, E...</td>\n",
       "      <td>[Imagine Dragons]</td>\n",
       "      <td>[rock, allrock]</td>\n",
       "      <td>[Believer]</td>\n",
       "    </tr>\n",
       "    <tr>\n",
       "      <th>512157</th>\n",
       "      <td>35505245</td>\n",
       "      <td>[I Got Love, I Got Love]</td>\n",
       "      <td>[Miyagi &amp; Эндшпиль, Рем Дигга]</td>\n",
       "      <td>[rusrap, rap]</td>\n",
       "      <td>[I Got Love]</td>\n",
       "    </tr>\n",
       "    <tr>\n",
       "      <th>647237</th>\n",
       "      <td>45499814</td>\n",
       "      <td>[Life, Life, Made in Russia, Fresh Dance, Life...</td>\n",
       "      <td>[Zivert]</td>\n",
       "      <td>[pop, ruspop]</td>\n",
       "      <td>[Life]</td>\n",
       "    </tr>\n",
       "    <tr>\n",
       "      <th>696106</th>\n",
       "      <td>51241318</td>\n",
       "      <td>[In the End, Christian TikTok, Trending Now 20...</td>\n",
       "      <td>[Tommee Profitt, Fleurie, Mellen Gi]</td>\n",
       "      <td>[rnb]</td>\n",
       "      <td>[In The End]</td>\n",
       "    </tr>\n",
       "    <tr>\n",
       "      <th>829320</th>\n",
       "      <td>65851540</td>\n",
       "      <td>[Юность]</td>\n",
       "      <td>[Dabro]</td>\n",
       "      <td>[pop, ruspop]</td>\n",
       "      <td>[Юность]</td>\n",
       "    </tr>\n",
       "  </tbody>\n",
       "</table>\n",
       "</div>"
      ]
     },
     "metadata": {},
     "output_type": "display_data"
    }
   ],
   "source": [
    "top10_tracks=clickstream[\"track_id\"].value_counts().nlargest(10).index.tolist()\n",
    "items[items['track_id'].isin(top10_tracks)]"
   ]
  },
  {
   "cell_type": "markdown",
   "id": "b1c32a5a-d3be-4f96-8dd9-f7860951020c",
   "metadata": {},
   "source": [
    "Наиболее популярные жанры"
   ]
  },
  {
   "cell_type": "code",
   "execution_count": 18,
   "id": "db467d3d",
   "metadata": {},
   "outputs": [],
   "source": [
    "di = dict(zip(items['track_id'], items['genres']))\n",
    "out = pd.DataFrame(columns=['genres','count'])\n",
    "for i in range(5):\n",
    "    sub = clickstream.sample(10000)\n",
    "    sub['genres'] = sub['track_id'].map(di)\n",
    "    sub['genres'] = sub['genres'].apply(lambda x: str(x))\n",
    "    out1 = pd.DataFrame(dict(sub['genres'].value_counts().nlargest(10)).items(), columns=['genres','count'])\n",
    "    out = pd.merge(out, out1, how='outer', on='genres', suffixes=(None, str(i)))"
   ]
  },
  {
   "cell_type": "code",
   "execution_count": 19,
   "id": "5715a8c8",
   "metadata": {},
   "outputs": [
    {
     "data": {
      "text/html": [
       "<div>\n",
       "<style scoped>\n",
       "    .dataframe tbody tr th:only-of-type {\n",
       "        vertical-align: middle;\n",
       "    }\n",
       "\n",
       "    .dataframe tbody tr th {\n",
       "        vertical-align: top;\n",
       "    }\n",
       "\n",
       "    .dataframe thead th {\n",
       "        text-align: right;\n",
       "    }\n",
       "</style>\n",
       "<table border=\"1\" class=\"dataframe\">\n",
       "  <thead>\n",
       "    <tr style=\"text-align: right;\">\n",
       "      <th></th>\n",
       "      <th>genres</th>\n",
       "      <th>count</th>\n",
       "      <th>count0</th>\n",
       "      <th>count1</th>\n",
       "      <th>count2</th>\n",
       "      <th>count3</th>\n",
       "      <th>count4</th>\n",
       "      <th>total</th>\n",
       "    </tr>\n",
       "  </thead>\n",
       "  <tbody>\n",
       "    <tr>\n",
       "      <th>0</th>\n",
       "      <td>['pop' 'ruspop']</td>\n",
       "      <td>None</td>\n",
       "      <td>1197</td>\n",
       "      <td>1155</td>\n",
       "      <td>1151</td>\n",
       "      <td>1209</td>\n",
       "      <td>1221</td>\n",
       "      <td>5933</td>\n",
       "    </tr>\n",
       "    <tr>\n",
       "      <th>1</th>\n",
       "      <td>['rusrap' 'rap']</td>\n",
       "      <td>None</td>\n",
       "      <td>1114</td>\n",
       "      <td>1146</td>\n",
       "      <td>1169</td>\n",
       "      <td>1171</td>\n",
       "      <td>1176</td>\n",
       "      <td>5776</td>\n",
       "    </tr>\n",
       "    <tr>\n",
       "      <th>2</th>\n",
       "      <td>['pop']</td>\n",
       "      <td>None</td>\n",
       "      <td>972</td>\n",
       "      <td>1021</td>\n",
       "      <td>1029</td>\n",
       "      <td>1007</td>\n",
       "      <td>1000</td>\n",
       "      <td>5029</td>\n",
       "    </tr>\n",
       "    <tr>\n",
       "      <th>3</th>\n",
       "      <td>['dance']</td>\n",
       "      <td>None</td>\n",
       "      <td>641</td>\n",
       "      <td>685</td>\n",
       "      <td>671</td>\n",
       "      <td>666</td>\n",
       "      <td>682</td>\n",
       "      <td>3345</td>\n",
       "    </tr>\n",
       "    <tr>\n",
       "      <th>4</th>\n",
       "      <td>['rusrock' 'allrock']</td>\n",
       "      <td>None</td>\n",
       "      <td>600</td>\n",
       "      <td>598</td>\n",
       "      <td>602</td>\n",
       "      <td>597</td>\n",
       "      <td>558</td>\n",
       "      <td>2955</td>\n",
       "    </tr>\n",
       "    <tr>\n",
       "      <th>5</th>\n",
       "      <td>['foreignrap' 'rap']</td>\n",
       "      <td>None</td>\n",
       "      <td>533</td>\n",
       "      <td>516</td>\n",
       "      <td>519</td>\n",
       "      <td>518</td>\n",
       "      <td>502</td>\n",
       "      <td>2588</td>\n",
       "    </tr>\n",
       "    <tr>\n",
       "      <th>6</th>\n",
       "      <td>['electronics']</td>\n",
       "      <td>None</td>\n",
       "      <td>520</td>\n",
       "      <td>489</td>\n",
       "      <td>505</td>\n",
       "      <td>502</td>\n",
       "      <td>492</td>\n",
       "      <td>2508</td>\n",
       "    </tr>\n",
       "    <tr>\n",
       "      <th>7</th>\n",
       "      <td>['rock' 'allrock']</td>\n",
       "      <td>None</td>\n",
       "      <td>399</td>\n",
       "      <td>409</td>\n",
       "      <td>397</td>\n",
       "      <td>394</td>\n",
       "      <td>415</td>\n",
       "      <td>2014</td>\n",
       "    </tr>\n",
       "    <tr>\n",
       "      <th>8</th>\n",
       "      <td>['alternative']</td>\n",
       "      <td>None</td>\n",
       "      <td>340</td>\n",
       "      <td>337</td>\n",
       "      <td>332</td>\n",
       "      <td>358</td>\n",
       "      <td>337</td>\n",
       "      <td>1704</td>\n",
       "    </tr>\n",
       "    <tr>\n",
       "      <th>9</th>\n",
       "      <td>['indie']</td>\n",
       "      <td>None</td>\n",
       "      <td>245</td>\n",
       "      <td>252</td>\n",
       "      <td>234</td>\n",
       "      <td>230</td>\n",
       "      <td>260</td>\n",
       "      <td>1221</td>\n",
       "    </tr>\n",
       "  </tbody>\n",
       "</table>\n",
       "</div>"
      ]
     },
     "metadata": {},
     "output_type": "display_data"
    }
   ],
   "source": [
    "out['total'] = out.sum(axis=1)\n",
    "out.sort_values(by='total',ascending=False).head(10)"
   ]
  },
  {
   "cell_type": "markdown",
   "id": "15254e66-e80e-473b-ba24-abebea5ccac7",
   "metadata": {},
   "source": [
    "Треки, которые никто не прослушал"
   ]
  },
  {
   "cell_type": "code",
   "execution_count": 20,
   "id": "f2196d88",
   "metadata": {},
   "outputs": [
    {
     "data": {
      "text/html": [
       "<div>\n",
       "<style scoped>\n",
       "    .dataframe tbody tr th:only-of-type {\n",
       "        vertical-align: middle;\n",
       "    }\n",
       "\n",
       "    .dataframe tbody tr th {\n",
       "        vertical-align: top;\n",
       "    }\n",
       "\n",
       "    .dataframe thead th {\n",
       "        text-align: right;\n",
       "    }\n",
       "</style>\n",
       "<table border=\"1\" class=\"dataframe\">\n",
       "  <thead>\n",
       "    <tr style=\"text-align: right;\">\n",
       "      <th></th>\n",
       "      <th>user_id</th>\n",
       "      <th>track_id</th>\n",
       "      <th>track_seq</th>\n",
       "      <th>started_at</th>\n",
       "    </tr>\n",
       "  </thead>\n",
       "  <tbody>\n",
       "  </tbody>\n",
       "</table>\n",
       "</div>"
      ]
     },
     "metadata": {},
     "output_type": "display_data"
    }
   ],
   "source": [
    "clickstream[clickstream['track_seq']==0]"
   ]
  },
  {
   "cell_type": "code",
   "execution_count": 21,
   "id": "cbaa4f1a",
   "metadata": {},
   "outputs": [
    {
     "name": "stdout",
     "output_type": "stream",
     "text": [
      "0\n"
     ]
    }
   ],
   "source": [
    "list1 = clickstream['track_id'].unique().tolist()\n",
    "list2 = items['track_id'].unique().tolist()\n",
    "array1 = np.array(list1)\n",
    "array2 = np.array(list2)\n",
    "\n",
    "count = np.sum(np.isin(array2, array1, invert=True))\n",
    "\n",
    "print(count)"
   ]
  },
  {
   "cell_type": "markdown",
   "id": "0d850a07-ef1e-462f-891a-1cf89f2e24ef",
   "metadata": {},
   "source": [
    "# Преобразование данных"
   ]
  },
  {
   "cell_type": "markdown",
   "id": "fabcf8d2-1192-4df5-b20b-fbb84689f57a",
   "metadata": {},
   "source": [
    "Преобразуем данные в формат, более пригодный для дальнейшего использования в расчётах рекомендаций."
   ]
  },
  {
   "cell_type": "code",
   "execution_count": 7,
   "id": "b77d3f9a",
   "metadata": {},
   "outputs": [],
   "source": [
    "for col in ['albums', 'artists', 'genres','track_name']:\n",
    "    items[col]=items[col].apply(lambda x: str(x))"
   ]
  },
  {
   "cell_type": "markdown",
   "id": "4d1be653-eed8-4fa0-a9c5-3811b080d71d",
   "metadata": {},
   "source": [
    "# Сохранение данных"
   ]
  },
  {
   "cell_type": "markdown",
   "id": "36f1314a-3af3-4faf-a0b1-3045173d1500",
   "metadata": {},
   "source": [
    "Сохраним данные в двух файлах в персональном S3-бакете по пути `recsys/data/`:\n",
    "- `items.parquet` — все данные о музыкальных треках,\n",
    "- `events.parquet` — все данные о взаимодействиях."
   ]
  },
  {
   "cell_type": "markdown",
   "id": "b8e3ff1c",
   "metadata": {},
   "source": [
    "import threading\n",
    "# Разделяем DataFrame на несколько частей\n",
    "n_parts = 40\n",
    "df_parts = np.array_split(clickstream, n_parts)\n",
    "def save_dataframe(df, filename):\n",
    "    df.to_parquet(filename)\n",
    "# Создаем потоки для сохранения каждой части DataFrame\n",
    "threads = []\n",
    "for i, df_part in enumerate(df_parts):\n",
    "    filename = f'df_part_{i}.parquet'\n",
    "    thread = threading.Thread(target=save_dataframe, args=(df_part, filename))\n",
    "    threads.append(thread)\n",
    "    thread.start()\n",
    "\n",
    "# Ждем завершения всех потоков\n",
    "for thread in threads:\n",
    "    thread.join()\n",
    "\n",
    "print(\"DataFrame saved\")"
   ]
  },
  {
   "cell_type": "code",
   "execution_count": 23,
   "id": "9f77af17-7705-4fae-9aad-db579b39faad",
   "metadata": {},
   "outputs": [],
   "source": [
    "#items.to_parquet(\"data/items.parquet\")\n",
    "#clickstream.to_parquet(\"data/events.parquet\")"
   ]
  },
  {
   "cell_type": "code",
   "execution_count": 24,
   "id": "162e44f9",
   "metadata": {},
   "outputs": [
    {
     "name": "stdout",
     "output_type": "stream",
     "text": [
      "Error connecting to S3 bucket: An error occurred (403) when calling the HeadBucket operation: Forbidden\n",
      "Error writing file to S3 bucket: An error occurred (InvalidAccessKeyId) when calling the PutObject operation: The AWS Access Key Id you provided does not exist in our records.\n"
     ]
    }
   ],
   "source": [
    "import boto3\n",
    "import os\n",
    "\n",
    "# Убедитесь, что у вас есть правильный AWS Access Key Id и AWS Secret Access Key, и у вас есть доступ к S3-бакету\n",
    "s3_resource = boto3.resource('s3', aws_access_key_id=os.getenv(\"AWS_ACCESS_KEY_ID\"), aws_secret_access_key=os.getenv(\"AWS_SECRET_ACCESS_KEY\"))\n",
    "\n",
    "# Проверяем подключение к S3-бакету\n",
    "try:\n",
    "    s3_resource.meta.client.head_bucket(Bucket=os.getenv(\"S3_BUCKET_NAME\"))\n",
    "    print(\"Connected to S3 bucket\")\n",
    "except Exception as e:\n",
    "    print(\"Error connecting to S3 bucket:\", e)\n",
    "\n",
    "# Проверяем возможность записи файлов в S3-бакет\n",
    "try:\n",
    "    s3_resource.Object(os.getenv(\"S3_BUCKET_NAME\"), 'test.txt').put(Body='test')\n",
    "    print(\"File written to S3 bucket\")\n",
    "except Exception as e:\n",
    "    print(\"Error writing file to S3 bucket:\", e)"
   ]
  },
  {
   "cell_type": "markdown",
   "id": "02c2d814",
   "metadata": {},
   "source": [
    "from io import BytesIO # python3; python2: BytesIO\n",
    "import boto3\n",
    "buffer = BytesIO()\n",
    "items.to_parquet(buffer)\n",
    "# Загружаем данные в S3-бакет\n",
    "s3_resource = boto3.resource('s3', aws_access_key_id=os.getenv(\"AWS_ACCESS_KEY_ID\"), aws_secret_access_key=os.getenv(\"AWS_SECRET_ACCESS_KEY\"))\n",
    "s3_resource.Object(os.getenv(\"S3_BUCKET_NAME\"), 'recsys/data/items.parquet').put(Body=buffer.getvalue())\n"
   ]
  },
  {
   "cell_type": "markdown",
   "id": "72ecbbed-c560-44d9-9c14-86c7dc76f399",
   "metadata": {},
   "source": [
    "# Очистка памяти"
   ]
  },
  {
   "cell_type": "markdown",
   "id": "60811230",
   "metadata": {},
   "source": []
  },
  {
   "cell_type": "markdown",
   "id": "b5358ede-ba6e-4c4f-bd73-5b9344f0ba79",
   "metadata": {},
   "source": [
    "Здесь, может понадобится очистка памяти для высвобождения ресурсов для выполнения кода ниже. \n",
    "\n",
    "Приведите соответствующие код, комментарии, например:\n",
    "- код для удаление более ненужных переменных,\n",
    "- комментарий, что следует перезапустить kernel, выполнить такие-то начальные секции и продолжить с этапа 3."
   ]
  },
  {
   "cell_type": "code",
   "execution_count": 8,
   "id": "c335be3f",
   "metadata": {},
   "outputs": [
    {
     "ename": "NameError",
     "evalue": "name 'list1' is not defined",
     "output_type": "error",
     "traceback": [
      "\u001b[0;31m---------------------------------------------------------------------------\u001b[0m",
      "\u001b[0;31mNameError\u001b[0m                                 Traceback (most recent call last)",
      "Cell \u001b[0;32mIn[8], line 3\u001b[0m\n\u001b[1;32m      1\u001b[0m \u001b[38;5;66;03m#del items, clickstream\u001b[39;00m\n\u001b[1;32m      2\u001b[0m \u001b[38;5;28;01mdel\u001b[39;00m catalog_names\n\u001b[0;32m----> 3\u001b[0m \u001b[38;5;28;01mdel\u001b[39;00m list1, list2, array1, array2\n\u001b[1;32m      4\u001b[0m \u001b[38;5;28;01mdel\u001b[39;00m top10_tracks, di, out, out1\n\u001b[1;32m      5\u001b[0m \u001b[38;5;28;01mdel\u001b[39;00m count\n",
      "\u001b[0;31mNameError\u001b[0m: name 'list1' is not defined"
     ]
    }
   ],
   "source": [
    "#del items, clickstream\n",
    "del catalog_names\n",
    "del list1, list2, array1, array2\n",
    "del top10_tracks, di, out, out1\n",
    "del count\n",
    "del sub"
   ]
  },
  {
   "cell_type": "markdown",
   "id": "708503df-ee89-4cf3-8489-093dc478e2a8",
   "metadata": {},
   "source": [
    "# === ЭТАП 3 ==="
   ]
  },
  {
   "cell_type": "markdown",
   "id": "fd77de22-e10f-4b42-85c1-8fb6f805fe68",
   "metadata": {},
   "source": [
    "# Загрузка данных"
   ]
  },
  {
   "cell_type": "markdown",
   "id": "780a4241-1ecd-4a3e-bbb3-fc2f6ca94f68",
   "metadata": {},
   "source": [
    "Если необходимо, то загружаем items.parquet, events.parquet."
   ]
  },
  {
   "cell_type": "code",
   "execution_count": null,
   "id": "767fe920-e12e-4ad8-b04e-56e8091fac9f",
   "metadata": {},
   "outputs": [],
   "source": [
    "#items = pd.read_parquet(\"data/items.parquet\")\n",
    "#events = pd.read_parquet(\"data/events.parquet\")"
   ]
  },
  {
   "cell_type": "code",
   "execution_count": null,
   "id": "f19fc8a5-bd2c-40d7-864a-ee75aca6d512",
   "metadata": {},
   "outputs": [],
   "source": []
  },
  {
   "cell_type": "code",
   "execution_count": null,
   "id": "5db1e801-5845-4ce3-86f2-c2fa30f68cc5",
   "metadata": {},
   "outputs": [],
   "source": []
  },
  {
   "cell_type": "markdown",
   "id": "a694c023-6477-490b-939d-1cfa6f5f1b72",
   "metadata": {},
   "source": [
    "# Разбиение данных"
   ]
  },
  {
   "cell_type": "markdown",
   "id": "fbd5f6e0-54e7-4428-8678-eabce505d82c",
   "metadata": {},
   "source": [
    "Разбиваем данные на тренировочную, тестовую выборки."
   ]
  },
  {
   "cell_type": "code",
   "execution_count": 9,
   "id": "00c2dfa5-d8a2-47d1-922e-6eefee2c62d1",
   "metadata": {},
   "outputs": [
    {
     "name": "stdout",
     "output_type": "stream",
     "text": [
      "1342566 783525 752870\n"
     ]
    }
   ],
   "source": [
    "# В качестве точки разбиения используйте 16 декабря 2022 года\n",
    "# зададим точку разбиения\n",
    "train_test_global_time_split_date = pd.to_datetime(\"2022-12-16\").date()\n",
    "\n",
    "train_test_global_time_split_idx = clickstream[\"started_at\"] < train_test_global_time_split_date\n",
    "events_train = clickstream[train_test_global_time_split_idx]\n",
    "events_test = clickstream[~train_test_global_time_split_idx]\n",
    "\n",
    "# количество пользователей в train и test\n",
    "users_train = events_train[\"user_id\"].drop_duplicates()\n",
    "users_test = events_test[\"user_id\"].drop_duplicates()\n",
    "# количество пользователей, которые есть и в train, и в test\n",
    "common_users = list(set(users_train.values).intersection(users_test.values))\n",
    "print(len(users_train), len(users_test), len(common_users))"
   ]
  },
  {
   "cell_type": "code",
   "execution_count": 10,
   "id": "6767b139",
   "metadata": {},
   "outputs": [
    {
     "data": {
      "text/plain": [
       "(Timestamp('2022-01-01 00:00:00'), Timestamp('2022-12-31 00:00:00'))"
      ]
     },
     "execution_count": 10,
     "metadata": {},
     "output_type": "execute_result"
    }
   ],
   "source": [
    "clickstream[\"started_at\"].min(), clickstream[\"started_at\"].max()"
   ]
  },
  {
   "cell_type": "code",
   "execution_count": 11,
   "id": "a8ed5447",
   "metadata": {},
   "outputs": [],
   "source": [
    "del clickstream"
   ]
  },
  {
   "cell_type": "markdown",
   "id": "9131c7e6-8852-4556-b510-51f7253cc299",
   "metadata": {},
   "source": [
    "# Топ популярных"
   ]
  },
  {
   "cell_type": "markdown",
   "id": "dd70d43a-88cc-4719-b291-feaed7136f30",
   "metadata": {},
   "source": [
    "Рассчитаем рекомендации как топ популярных."
   ]
  },
  {
   "cell_type": "markdown",
   "id": "f3ca4ec8",
   "metadata": {},
   "source": [
    "Так как у нас очень большие наборы данных, и да и киленты не самые одинаковые, то есть смысл разделить клиенты на кластеры, и для каждого кластера вывбрать топ популярных."
   ]
  },
  {
   "cell_type": "code",
   "execution_count": 12,
   "id": "e24f69df",
   "metadata": {},
   "outputs": [],
   "source": [
    "def get_popular_tracks(user_ids, clickstream, items):\n",
    "    \"\"\"\n",
    "    Возвращает самые популярные треки для заданных пользователей.\n",
    "\n",
    "    Аргументы:\n",
    "    user_ids (list): Список идентификаторов пользователей.\n",
    "    clickstream (DataFrame): DataFrame с информацией о прослушивании треков.\n",
    "    items (DataFrame): DataFrame с информацией о треках.\n",
    "\n",
    "    Возвращает:\n",
    "    DataFrame: DataFrame с информацией о самых популярных треках для заданных пользователей.\n",
    "    \"\"\"\n",
    "    # Фильтруем DataFrame clickstream по заданным идентификаторам пользователей\n",
    "    clickstream_filtered = clickstream[clickstream['user_id'].isin(user_ids)]\n",
    "\n",
    "    # Группируем данные по жанрам и подсчитываем количество прослушиваний\n",
    "    genre_counts = pd.merge(clickstream_filtered, items[['track_id','genres']], how='left', on='track_id')\n",
    "    genre_counts = genre_counts.groupby('genres')['track_seq'].sum().nlargest(10)\n",
    "    # Получаем самые популярные жанры\n",
    "    most_popular_genres = genre_counts.index.tolist()\n",
    "    \n",
    "\n",
    "    # Фильтруем DataFrame items по самым популярным жанрам\n",
    "    items_filtered = items[items['genres'].isin(most_popular_genres)]['track_id']\n",
    "\n",
    "    # Группируем данные по трекам и подсчитываем количество прослушиваний\n",
    "    track_counts = clickstream_filtered[clickstream_filtered['track_id'].isin(items_filtered)]\n",
    "\n",
    "    track_counts = track_counts.groupby('track_id')['track_seq'].sum()\n",
    "\n",
    "    # Получаем самые популярные треки\n",
    "    most_popular_tracks = track_counts.index.tolist()\n",
    "\n",
    "    # Возвращаем DataFrame с информацией о самых популярных треках\n",
    "    return items[items['track_id'].isin(most_popular_tracks)].head(10)"
   ]
  },
  {
   "cell_type": "code",
   "execution_count": 13,
   "id": "ec92786d",
   "metadata": {},
   "outputs": [],
   "source": [
    "def get_most_common_genre(user_id, df):\n",
    "    \"\"\"\n",
    "    Возвращает наиболее часто упоминаемый 'genre' для заданного 'user_id'.\n",
    "\n",
    "    Аргументы:\n",
    "    user_id (int): Идентификатор пользователя.\n",
    "    df (DataFrame): DataFrame с информацией о жанрах.\n",
    "\n",
    "    Возвращает:\n",
    "    str: Наиболее часто упоминаемый 'genre' для заданного 'user_id'.\n",
    "    \"\"\"\n",
    "    # Фильтруем DataFrame по заданному 'user_id'\n",
    "    df_filtered = df[df['user_id'] == user_id]\n",
    "\n",
    "    # Находим наиболее часто упоминаемый 'genre'\n",
    "    most_common_genre = mode(df_filtered['genre'])\n",
    "\n",
    "    return most_common_genre"
   ]
  },
  {
   "cell_type": "code",
   "execution_count": 18,
   "id": "0ea43360",
   "metadata": {},
   "outputs": [
    {
     "ename": "",
     "evalue": "",
     "output_type": "error",
     "traceback": [
      "\u001b[1;31mПри выполнении кода в текущей ячейке или предыдущей ячейке ядро аварийно завершило работу. \n",
      "\u001b[1;31mПроверьте код в ячейках, чтобы определить возможную причину сбоя. \n",
      "\u001b[1;31mЩелкните <a href='https://aka.ms/vscodeJupyterKernelCrash'>здесь</a>, чтобы получить дополнительные сведения. \n",
      "\u001b[1;31mПодробнее см. в <a href='command:jupyter.viewOutput'>журнале Jupyter</a>."
     ]
    }
   ],
   "source": [
    "train_genres = pd.merge(events_train, items[['track_id','genres']], how='left', on='track_id')\n",
    "train_genres = train_genres[train_genres['user_id'].isin(common_users)].head(300)\n"
   ]
  },
  {
   "cell_type": "code",
   "execution_count": 17,
   "id": "e75c87dc",
   "metadata": {},
   "outputs": [
    {
     "data": {
      "text/plain": [
       "user_id\n",
       "3    ['pop' 'ruspop']\n",
       "Name: genres, dtype: object"
      ]
     },
     "execution_count": 17,
     "metadata": {},
     "output_type": "execute_result"
    }
   ],
   "source": [
    "favouroite_genres = train_genres.groupby('user_id')['genres'].apply(lambda x: mode(x))\n",
    "favouroite_genres"
   ]
  },
  {
   "cell_type": "code",
   "execution_count": 32,
   "id": "9cb5a7ea",
   "metadata": {},
   "outputs": [
    {
     "ename": "",
     "evalue": "",
     "output_type": "error",
     "traceback": [
      "\u001b[1;31mПри выполнении кода в текущей ячейке или предыдущей ячейке ядро аварийно завершило работу. \n",
      "\u001b[1;31mПроверьте код в ячейках, чтобы определить возможную причину сбоя. \n",
      "\u001b[1;31mЩелкните <a href='https://aka.ms/vscodeJupyterKernelCrash'>здесь</a>, чтобы получить дополнительные сведения. \n",
      "\u001b[1;31mПодробнее см. в <a href='command:jupyter.viewOutput'>журнале Jupyter</a>."
     ]
    }
   ],
   "source": [
    "train_genres = pd.merge(events_train, items[['track_id','genres']], how='left', on='track_id')\n",
    "train_genres = train_genres[train_genres['user_id'].isin(common_users)]\n",
    "# Создаем потоки для нахождения наиболее часто упоминаемого 'genre' для каждого 'user_id'\n",
    "threads = []\n",
    "for user_id in common_users[:10]:\n",
    "    thread = threading.Thread(target=get_most_common_genre, args=(user_id, train_genres))\n",
    "    threads.append(thread)\n",
    "    thread.start()\n",
    "\n",
    "# Ждем завершения всех потоков\n",
    "for thread in threads:\n",
    "    thread.join()\n",
    "\n",
    "print(\"Most common genres found\")\n",
    "thread, threads"
   ]
  },
  {
   "cell_type": "code",
   "execution_count": null,
   "id": "6f462bb9",
   "metadata": {},
   "outputs": [],
   "source": [
    "train_genres['favouroite_genre'] = threads"
   ]
  },
  {
   "cell_type": "code",
   "execution_count": null,
   "id": "133ad0bb",
   "metadata": {},
   "outputs": [],
   "source": [
    "train_genres = pd.merge(events_train, items[['track_id','genres']], how='left', on='track_id')"
   ]
  },
  {
   "cell_type": "code",
   "execution_count": null,
   "id": "16d4101c",
   "metadata": {},
   "outputs": [],
   "source": [
    "train_genres.groupby('user_id')['genres'].apply(lambda x: statistics.mode(x))"
   ]
  },
  {
   "cell_type": "code",
   "execution_count": null,
   "id": "57923bff",
   "metadata": {},
   "outputs": [],
   "source": [
    "victims = list(events_test['user_id'].unique())"
   ]
  },
  {
   "cell_type": "code",
   "execution_count": null,
   "id": "28582004",
   "metadata": {},
   "outputs": [],
   "source": [
    "#get_popular_tracks(victims, events_train, items)"
   ]
  },
  {
   "cell_type": "code",
   "execution_count": null,
   "id": "ee45e200-b7d6-4f56-9077-aad431689b96",
   "metadata": {},
   "outputs": [],
   "source": [
    "from sklearn.preprocessing import MinMaxScaler\n",
    "\n",
    "\n",
    "item_popularity = events_train \\\n",
    "    .groupby([\"track_id\"]).agg(users=(\"user_id\", \"nunique\"), seqs=(\"track_seq\", \"sum\")).reset_index()\n",
    "\n",
    "# нормализация пользователей и среднего рейтинга, требуется для их приведения к одному масштабу\n",
    "scaler = MinMaxScaler()\n",
    "item_popularity[[\"users_norm\", \"seqs_norm\"]] = scaler.fit_transform(\n",
    "    item_popularity[[\"users\", \"seqs\"]]\n",
    ")\n",
    "\n",
    "# вычисляем popularity_score, как скор популярности со штрафом за низкий рейтинг\n",
    "item_popularity[\"popularity_score\"] = (\n",
    "    item_popularity[\"users_norm\"] * item_popularity[\"seqs_norm\"]\n",
    ")\n",
    "\n",
    "# сортируем по убыванию popularity_score\n",
    "item_popularity = item_popularity.sort_values(\"popularity_score\", ascending=False)\n",
    "top_k_pop_items = item_popularity.head(100)[\"item_id\"].tolist()"
   ]
  },
  {
   "cell_type": "code",
   "execution_count": null,
   "id": "7690c86f-7aa9-46ed-bba5-2c837626411e",
   "metadata": {},
   "outputs": [],
   "source": []
  },
  {
   "cell_type": "markdown",
   "id": "2ad231f2-6158-421a-b7fa-01d8bc3ed572",
   "metadata": {},
   "source": [
    "# Персональные"
   ]
  },
  {
   "cell_type": "markdown",
   "id": "86159460-cd9d-4b63-8248-604ea3c9aebf",
   "metadata": {},
   "source": [
    "Рассчитаем персональные рекомендации."
   ]
  },
  {
   "cell_type": "code",
   "execution_count": null,
   "id": "d2944822-569c-4f9b-82dc-70a7fa2d542e",
   "metadata": {},
   "outputs": [],
   "source": []
  },
  {
   "cell_type": "code",
   "execution_count": null,
   "id": "1e8cdb58-3a8c-45ad-8e5f-7f950314aa56",
   "metadata": {},
   "outputs": [],
   "source": []
  },
  {
   "cell_type": "markdown",
   "id": "5f09dc7e-7c91-4355-860a-b9cfb9f33f15",
   "metadata": {},
   "source": [
    "# Похожие"
   ]
  },
  {
   "cell_type": "markdown",
   "id": "1dfcb683-b440-40a8-9975-894156a53872",
   "metadata": {},
   "source": [
    "Рассчитаем похожие, они позже пригодятся для онлайн-рекомендаций."
   ]
  },
  {
   "cell_type": "code",
   "execution_count": null,
   "id": "a75d07ee-4b12-4ce5-aa85-e45cb7a7a4f0",
   "metadata": {},
   "outputs": [],
   "source": []
  },
  {
   "cell_type": "code",
   "execution_count": null,
   "id": "ce370904-4c49-4152-8706-416074ea9b9a",
   "metadata": {},
   "outputs": [],
   "source": []
  },
  {
   "cell_type": "markdown",
   "id": "0087a3e7-ca9f-42cd-944c-944222c1baef",
   "metadata": {},
   "source": [
    "# Построение признаков"
   ]
  },
  {
   "cell_type": "markdown",
   "id": "e82a32e1-b90b-4eaf-9439-fc8deab9f34b",
   "metadata": {},
   "source": [
    "Построим три признака, можно больше, для ранжирующей модели."
   ]
  },
  {
   "cell_type": "code",
   "execution_count": null,
   "id": "05b4ae84-406a-44a4-abec-4f80f93e3004",
   "metadata": {},
   "outputs": [],
   "source": []
  },
  {
   "cell_type": "code",
   "execution_count": null,
   "id": "00f84c35-f544-4c3d-ad53-9b1d2b684c75",
   "metadata": {},
   "outputs": [],
   "source": []
  },
  {
   "cell_type": "markdown",
   "id": "47bcf88d-b236-46f0-a6f3-38ddd64895fe",
   "metadata": {},
   "source": [
    "# Ранжирование рекомендаций"
   ]
  },
  {
   "cell_type": "markdown",
   "id": "e8cd8223-3418-4493-8c87-1f76286ebda0",
   "metadata": {},
   "source": [
    "Построим ранжирующую модель, чтобы сделать рекомендации более точными. Отранжируем рекомендации."
   ]
  },
  {
   "cell_type": "code",
   "execution_count": null,
   "id": "79f1dd92-32a9-463d-827e-8bb9ee5bbb54",
   "metadata": {},
   "outputs": [],
   "source": []
  },
  {
   "cell_type": "code",
   "execution_count": null,
   "id": "6dbe4db4-1ac5-44da-a13c-8e7f9768ab73",
   "metadata": {},
   "outputs": [],
   "source": []
  },
  {
   "cell_type": "markdown",
   "id": "b3c84071-45b5-4a15-a683-e0ab034a3128",
   "metadata": {},
   "source": [
    "# Оценка качества"
   ]
  },
  {
   "cell_type": "markdown",
   "id": "1b107fe4-554e-42b1-87d9-c435a52bb77a",
   "metadata": {},
   "source": [
    "Проверим оценку качества трёх типов рекомендаций: \n",
    "\n",
    "- топ популярных,\n",
    "- персональных, полученных при помощи ALS,\n",
    "- итоговых\n",
    "  \n",
    "по четырем метрикам: recall, precision, coverage, novelty."
   ]
  },
  {
   "cell_type": "code",
   "execution_count": null,
   "id": "94d6f388-aecb-443e-8647-14014e932d4d",
   "metadata": {},
   "outputs": [],
   "source": []
  },
  {
   "cell_type": "code",
   "execution_count": null,
   "id": "26df411f-14c1-4848-8797-f37afe449cc6",
   "metadata": {},
   "outputs": [],
   "source": []
  },
  {
   "cell_type": "markdown",
   "id": "f1c8d38c-32b0-46a4-96f0-cd01dac708bc",
   "metadata": {},
   "source": [
    "# === Выводы, метрики ==="
   ]
  },
  {
   "cell_type": "markdown",
   "id": "f7d7d5d8-7d1e-4fdf-a6cd-83e5ce92c684",
   "metadata": {},
   "source": [
    "Основные выводы при работе над расчётом рекомендаций, рассчитанные метрики."
   ]
  },
  {
   "cell_type": "code",
   "execution_count": null,
   "id": "6403097d-db36-46d9-8952-613c9bd51b05",
   "metadata": {},
   "outputs": [],
   "source": []
  },
  {
   "cell_type": "code",
   "execution_count": null,
   "id": "986cfdd5-6f2e-4de6-8666-85804c87d04b",
   "metadata": {},
   "outputs": [],
   "source": []
  }
 ],
 "metadata": {
  "kernelspec": {
   "display_name": ".s4",
   "language": "python",
   "name": "python3"
  },
  "language_info": {
   "codemirror_mode": {
    "name": "ipython",
    "version": 3
   },
   "file_extension": ".py",
   "mimetype": "text/x-python",
   "name": "python",
   "nbconvert_exporter": "python",
   "pygments_lexer": "ipython3",
   "version": "3.10.12"
  }
 },
 "nbformat": 4,
 "nbformat_minor": 5
}
